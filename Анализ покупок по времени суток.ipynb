{
 "cells": [
  {
   "cell_type": "code",
   "execution_count": null,
   "id": "1f3cdb22",
   "metadata": {},
   "outputs": [],
   "source": [
    "import ..."
   ]
  },
  {
   "cell_type": "code",
   "execution_count": null,
   "id": "ec061b15",
   "metadata": {},
   "outputs": [],
   "source": [
    "data = pd.read_csv(r'', sep = ';')"
   ]
  },
  {
   "cell_type": "code",
   "execution_count": null,
   "id": "250fea26",
   "metadata": {},
   "outputs": [],
   "source": [
    "data"
   ]
  },
  {
   "cell_type": "code",
   "execution_count": null,
   "id": "1171e067",
   "metadata": {},
   "outputs": [],
   "source": [
    "data['status_mf'] = data['status_mf'].fillna('')"
   ]
  },
  {
   "cell_type": "code",
   "execution_count": null,
   "id": "f61c5a86",
   "metadata": {},
   "outputs": [],
   "source": [
    "data = data[['flag_lk_nk','status_mf','trans_numb']]"
   ]
  },
  {
   "cell_type": "code",
   "execution_count": null,
   "id": "0cdcdd96",
   "metadata": {},
   "outputs": [],
   "source": [
    "data"
   ]
  },
  {
   "cell_type": "code",
   "execution_count": null,
   "id": "b4c2f2b7",
   "metadata": {},
   "outputs": [],
   "source": [
    "data2 = pd.read_csv(r'', sep = ';')"
   ]
  },
  {
   "cell_type": "code",
   "execution_count": null,
   "id": "aa3df3ba",
   "metadata": {},
   "outputs": [],
   "source": [
    "data2"
   ]
  },
  {
   "cell_type": "code",
   "execution_count": null,
   "id": "707dff87",
   "metadata": {},
   "outputs": [],
   "source": [
    "data2 = data2.dropna()"
   ]
  },
  {
   "cell_type": "code",
   "execution_count": null,
   "id": "5fb6b10e",
   "metadata": {},
   "outputs": [],
   "source": [
    "data = data2.merge(data, on = 'trans_numb')"
   ]
  },
  {
   "cell_type": "code",
   "execution_count": null,
   "id": "a5e5bb07",
   "metadata": {},
   "outputs": [],
   "source": [
    "calend = pd.read_excel(r'')"
   ]
  },
  {
   "cell_type": "code",
   "execution_count": null,
   "id": "7e3649b2",
   "metadata": {},
   "outputs": [],
   "source": [
    "calend = calend[['Дата','PW День','PY День']]"
   ]
  },
  {
   "cell_type": "code",
   "execution_count": null,
   "id": "2d13d0a5",
   "metadata": {},
   "outputs": [],
   "source": [
    "data = data2[['date','client_id','flag_lk_nk','status_mf','week_day','time','ns_with_disc','checks']]"
   ]
  },
  {
   "cell_type": "code",
   "execution_count": null,
   "id": "6cfc9bbf",
   "metadata": {},
   "outputs": [],
   "source": [
    "data2"
   ]
  },
  {
   "cell_type": "code",
   "execution_count": null,
   "id": "58bfe9bf",
   "metadata": {},
   "outputs": [],
   "source": [
    "data2['date'].max()"
   ]
  },
  {
   "cell_type": "code",
   "execution_count": null,
   "id": "ea875e15",
   "metadata": {},
   "outputs": [],
   "source": [
    "time = data.groupby(['date','flag_lk_nk','status_mf','week_day','time']).agg({'client_id': 'nunique','ns_with_disc': 'sum','checks':'sum'}). reset_index()\n",
    "#amount_of_purch= pd.DataFrame(amount_of_purch).reset_index()"
   ]
  },
  {
   "cell_type": "code",
   "execution_count": null,
   "id": "902acf2f",
   "metadata": {},
   "outputs": [],
   "source": [
    "time"
   ]
  },
  {
   "cell_type": "code",
   "execution_count": null,
   "id": "44ebcfa5",
   "metadata": {},
   "outputs": [],
   "source": [
    "pd.set_option(\"display.float_format\", \"{:.2f}\".format)"
   ]
  },
  {
   "cell_type": "code",
   "execution_count": null,
   "id": "db986800",
   "metadata": {},
   "outputs": [],
   "source": [
    "time"
   ]
  },
  {
   "cell_type": "code",
   "execution_count": null,
   "id": "8adeaf27",
   "metadata": {},
   "outputs": [],
   "source": [
    "data['time'].unique()"
   ]
  },
  {
   "cell_type": "code",
   "execution_count": null,
   "id": "a1653b6b",
   "metadata": {},
   "outputs": [],
   "source": []
  }
 ],
 "metadata": {
  "kernelspec": {
   "display_name": "Python 3 (ipykernel)",
   "language": "python",
   "name": "python3"
  },
  "language_info": {
   "codemirror_mode": {
    "name": "ipython",
    "version": 3
   },
   "file_extension": ".py",
   "mimetype": "text/x-python",
   "name": "python",
   "nbconvert_exporter": "python",
   "pygments_lexer": "ipython3",
   "version": "3.11.3"
  }
 },
 "nbformat": 4,
 "nbformat_minor": 5
}
