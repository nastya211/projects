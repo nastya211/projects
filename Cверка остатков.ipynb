{
 "cells": [
  {
   "cell_type": "code",
   "execution_count": null,
   "id": "ba4e4a1b",
   "metadata": {},
   "outputs": [],
   "source": [
    "import ..."
   ]
  },
  {
   "cell_type": "code",
   "execution_count": null,
   "id": "7fc54a64",
   "metadata": {},
   "outputs": [],
   "source": [
    "now = datetime.now().strftime(\"%d.%m.%Y\")\n",
    "yest = (datetime.now() - timedelta(days=1)).strftime(\"%d.%m.%Y\")"
   ]
  },
  {
   "cell_type": "code",
   "execution_count": null,
   "id": "53ba0b7e",
   "metadata": {},
   "outputs": [],
   "source": [
    "folder = r''\n",
    "filename = '' + yest + '.xlsx'\n",
    "file_path = folder + filename\n",
    "data1 = pd.read_excel(file_path)\n",
    "\n",
    "filename2 = '' + now + '.XLSX'\n",
    "file_path2 = folder + filename2\n",
    "data2 = pd.read_excel(file_path2)\n",
    "\n",
    "filename3 = '' + yest + '.XLSX'\n",
    "file_path3 = folder + filename3\n",
    "data3 = pd.read_excel(file_path3)"
   ]
  },
  {
   "cell_type": "code",
   "execution_count": null,
   "id": "66df262d",
   "metadata": {},
   "outputs": [],
   "source": [
    "data4 = pd.read_excel(r'', sheet_name = '')"
   ]
  },
  {
   "cell_type": "code",
   "execution_count": null,
   "id": "ce01c25e",
   "metadata": {
    "scrolled": true
   },
   "outputs": [],
   "source": [
    "data4"
   ]
  },
  {
   "cell_type": "code",
   "execution_count": null,
   "id": "289688e1",
   "metadata": {},
   "outputs": [],
   "source": [
    "data1"
   ]
  },
  {
   "cell_type": "code",
   "execution_count": null,
   "id": "379b6a08",
   "metadata": {},
   "outputs": [],
   "source": [
    "data2"
   ]
  },
  {
   "cell_type": "code",
   "execution_count": null,
   "id": "e72e3c9f",
   "metadata": {},
   "outputs": [],
   "source": [
    "data3"
   ]
  },
  {
   "cell_type": "code",
   "execution_count": null,
   "id": "121a4df5",
   "metadata": {},
   "outputs": [],
   "source": [
    "data1.columns = data1.iloc[0]\n",
    "data1 = data1.iloc [1: , :]"
   ]
  },
  {
   "cell_type": "code",
   "execution_count": null,
   "id": "b84c93db",
   "metadata": {},
   "outputs": [],
   "source": [
    "data1"
   ]
  },
  {
   "cell_type": "code",
   "execution_count": null,
   "id": "f5e773b5",
   "metadata": {},
   "outputs": [],
   "source": [
    "data1['К перечислению за товар, руб.'].sum()"
   ]
  },
  {
   "cell_type": "code",
   "execution_count": null,
   "id": "8ddbc10a",
   "metadata": {},
   "outputs": [],
   "source": [
    "data5 = pd.read_excel(r'', sheet_name = '')"
   ]
  },
  {
   "cell_type": "code",
   "execution_count": null,
   "id": "9567d9e7",
   "metadata": {},
   "outputs": [],
   "source": [
    "data5"
   ]
  },
  {
   "cell_type": "code",
   "execution_count": null,
   "id": "16058067",
   "metadata": {},
   "outputs": [],
   "source": [
    "data5 = data5.iloc [1: , :]\n",
    "data5 = data5.reset_index()\n",
    "data5 = data5.iloc [: , 1:]\n",
    "data5.columns = data5.iloc[0]\n",
    "data5 = data5.iloc [1: , :]\n",
    "data5 = data5.reset_index()\n",
    "data5.drop (columns=data5.columns [0], axis= 1 , inplace= True )"
   ]
  },
  {
   "cell_type": "code",
   "execution_count": null,
   "id": "5e3311e1",
   "metadata": {},
   "outputs": [],
   "source": [
    "data5"
   ]
  },
  {
   "cell_type": "code",
   "execution_count": null,
   "id": "0b8075d4",
   "metadata": {},
   "outputs": [],
   "source": [
    "data5 = data5[['Артикул','Цветомодель','Wildberries\\nНоменклатура']]"
   ]
  },
  {
   "cell_type": "code",
   "execution_count": null,
   "id": "ec5d8b7c",
   "metadata": {},
   "outputs": [],
   "source": [
    "data5 = data5.rename(columns={'Wildberries\\nНоменклатура': 'Артикул WB'})"
   ]
  },
  {
   "cell_type": "code",
   "execution_count": null,
   "id": "b1d91971",
   "metadata": {},
   "outputs": [],
   "source": [
    "data5"
   ]
  },
  {
   "cell_type": "code",
   "execution_count": null,
   "id": "d41a5584",
   "metadata": {},
   "outputs": [],
   "source": [
    "#data5 = data5.drop_duplicates('Номенклатура')"
   ]
  },
  {
   "cell_type": "code",
   "execution_count": null,
   "id": "3ec0d0b7",
   "metadata": {},
   "outputs": [],
   "source": [
    "#data5"
   ]
  },
  {
   "cell_type": "code",
   "execution_count": null,
   "id": "ce70e840",
   "metadata": {},
   "outputs": [],
   "source": [
    "data2"
   ]
  },
  {
   "cell_type": "code",
   "execution_count": null,
   "id": "30a60fe2",
   "metadata": {},
   "outputs": [],
   "source": [
    "a = data2[['Артикул WB','Размер вещи']]\n",
    "a = a.merge(data5, on = ['Артикул WB'], how = 'left')"
   ]
  },
  {
   "cell_type": "code",
   "execution_count": null,
   "id": "e0d5d5ac",
   "metadata": {},
   "outputs": [],
   "source": [
    "a"
   ]
  },
  {
   "cell_type": "code",
   "execution_count": null,
   "id": "d3a1b730",
   "metadata": {},
   "outputs": [],
   "source": [
    "data3"
   ]
  },
  {
   "cell_type": "code",
   "execution_count": null,
   "id": "18c3daee",
   "metadata": {},
   "outputs": [],
   "source": [
    "data3 = data3[['Артикул WB','Баркод','Размер вещи','В пути до клиента', 'Итого по складам']]\n",
    "data3 = data3.rename(columns={'В пути до клиента': 'Товары в пути_вчера','Итого по складам': 'Итого по складам_вчера'})"
   ]
  },
  {
   "cell_type": "code",
   "execution_count": null,
   "id": "bb8e1dc5",
   "metadata": {},
   "outputs": [],
   "source": [
    "a = a.merge(data3, on = ['Артикул WB','Размер вещи'], how = 'left')\n",
    "#a = a.drop_duplicates(['Номенклатура','Размер вещи'])\n",
    "a = a.fillna(0)\n",
    "a['Итого_сток_вчера'] = a['Товары в пути_вчера']+a['Итого по складам_вчера']"
   ]
  },
  {
   "cell_type": "code",
   "execution_count": null,
   "id": "76ba43a0",
   "metadata": {},
   "outputs": [],
   "source": [
    "a"
   ]
  },
  {
   "cell_type": "code",
   "execution_count": null,
   "id": "fad782e1",
   "metadata": {},
   "outputs": [],
   "source": [
    "a.query('Артикул == 0')"
   ]
  },
  {
   "cell_type": "code",
   "execution_count": null,
   "id": "f1beffec",
   "metadata": {},
   "outputs": [],
   "source": [
    "data2"
   ]
  },
  {
   "cell_type": "code",
   "execution_count": null,
   "id": "197c6ef5",
   "metadata": {},
   "outputs": [],
   "source": [
    "data2 = data2[['Артикул WB','Размер вещи','В пути до клиента', 'Итого по складам']]\n",
    "data2 = data2.rename(columns={'В пути до клиента': 'Товары в пути'})\n",
    "a = a.merge(data2, on = ['Артикул WB','Размер вещи'], how = 'left')\n",
    "#a = a.drop_duplicates(['Номенклатура','Размер вещи'])\n",
    "a = a.fillna(0)\n",
    "a['Итого_сток'] = a['Товары в пути']+a['Итого по складам']"
   ]
  },
  {
   "cell_type": "code",
   "execution_count": null,
   "id": "4ff48408",
   "metadata": {},
   "outputs": [],
   "source": [
    "a"
   ]
  },
  {
   "cell_type": "code",
   "execution_count": null,
   "id": "a3066c33",
   "metadata": {},
   "outputs": [],
   "source": [
    "a = a.fillna(0)\n",
    "a['Товары в пути_дельта'] = a['Товары в пути']-a['Товары в пути_вчера']\n",
    "a['Итого по складам_дельта'] = a['Итого по складам']-a['Итого по складам_вчера']\n",
    "a['Итого_сток_дельта'] = a['Итого_сток']-a['Итого_сток_вчера']"
   ]
  },
  {
   "cell_type": "code",
   "execution_count": null,
   "id": "00f1b060",
   "metadata": {},
   "outputs": [],
   "source": [
    "a"
   ]
  },
  {
   "cell_type": "code",
   "execution_count": null,
   "id": "1cadf45f",
   "metadata": {},
   "outputs": [],
   "source": [
    "data1 = data1[['Артикул WB', 'Размер','шт.','Выкупили, шт.','К перечислению за товар, руб.']]"
   ]
  },
  {
   "cell_type": "code",
   "execution_count": null,
   "id": "94d71c25",
   "metadata": {},
   "outputs": [],
   "source": [
    "data1.columns = ['Артикул WB','Размер вещи','Поступления на склад WB','Заказано шт.','Выкупили, шт.', 'Gross Sales']"
   ]
  },
  {
   "cell_type": "code",
   "execution_count": null,
   "id": "ce7664f1",
   "metadata": {},
   "outputs": [],
   "source": [
    "data1"
   ]
  },
  {
   "cell_type": "code",
   "execution_count": null,
   "id": "4d2cbbc3",
   "metadata": {},
   "outputs": [],
   "source": [
    "data1 = data1.groupby(by=['Артикул WB','Размер вещи']).sum()"
   ]
  },
  {
   "cell_type": "code",
   "execution_count": null,
   "id": "95d8c735",
   "metadata": {},
   "outputs": [],
   "source": [
    "data1"
   ]
  },
  {
   "cell_type": "code",
   "execution_count": null,
   "id": "db2a9921",
   "metadata": {},
   "outputs": [],
   "source": [
    "data1=data1.reset_index()"
   ]
  },
  {
   "cell_type": "code",
   "execution_count": null,
   "id": "7f4ac21f",
   "metadata": {},
   "outputs": [],
   "source": [
    "data1['Выкупили, шт.'].sum()"
   ]
  },
  {
   "cell_type": "code",
   "execution_count": null,
   "id": "65dcba5f",
   "metadata": {},
   "outputs": [],
   "source": [
    "#data1 = data1.drop_duplicates()"
   ]
  },
  {
   "cell_type": "code",
   "execution_count": null,
   "id": "c25b3017",
   "metadata": {},
   "outputs": [],
   "source": [
    "a = a.merge(data1, on = ['Артикул WB','Размер вещи'], how = 'left')"
   ]
  },
  {
   "cell_type": "code",
   "execution_count": null,
   "id": "92fe553a",
   "metadata": {},
   "outputs": [],
   "source": [
    "a\n"
   ]
  },
  {
   "cell_type": "code",
   "execution_count": null,
   "id": "cca3a8c5",
   "metadata": {},
   "outputs": [],
   "source": [
    "#a = a.drop_duplicates(['Номенклатура','Размер вещи'])"
   ]
  },
  {
   "cell_type": "code",
   "execution_count": null,
   "id": "1e3efe0f",
   "metadata": {},
   "outputs": [],
   "source": [
    "a = a.fillna(0)"
   ]
  },
  {
   "cell_type": "code",
   "execution_count": null,
   "id": "fb2a471c",
   "metadata": {},
   "outputs": [],
   "source": [
    "data4.columns = ['Артикул','VAT','COST']"
   ]
  },
  {
   "cell_type": "code",
   "execution_count": null,
   "id": "2b99ef4c",
   "metadata": {},
   "outputs": [],
   "source": [
    "a = a.merge(data4,on='Артикул', how = 'left')"
   ]
  },
  {
   "cell_type": "code",
   "execution_count": null,
   "id": "4e14aaf0",
   "metadata": {},
   "outputs": [],
   "source": [
    "a"
   ]
  },
  {
   "cell_type": "code",
   "execution_count": null,
   "id": "96a0827d",
   "metadata": {},
   "outputs": [],
   "source": [
    "a['Net Sales'] = a['Gross Sales']*(1-(a['VAT']-1))"
   ]
  },
  {
   "cell_type": "code",
   "execution_count": null,
   "id": "cc2a9580",
   "metadata": {},
   "outputs": [],
   "source": [
    "a"
   ]
  },
  {
   "cell_type": "code",
   "execution_count": null,
   "id": "a9f45616",
   "metadata": {},
   "outputs": [],
   "source": [
    "a['COGS'] = a['Выкупили, шт.']*a['COST']"
   ]
  },
  {
   "cell_type": "code",
   "execution_count": null,
   "id": "6d982ef1",
   "metadata": {},
   "outputs": [],
   "source": [
    "a"
   ]
  },
  {
   "cell_type": "code",
   "execution_count": null,
   "id": "1d266100",
   "metadata": {},
   "outputs": [],
   "source": [
    "a['GP'] = a['Net Sales']-a['COGS']"
   ]
  },
  {
   "cell_type": "code",
   "execution_count": null,
   "id": "54ebd66f",
   "metadata": {},
   "outputs": [],
   "source": [
    "a['GPM'] = a['GP']/a['Net Sales']"
   ]
  },
  {
   "cell_type": "code",
   "execution_count": null,
   "id": "4f6febde",
   "metadata": {},
   "outputs": [],
   "source": [
    "a"
   ]
  },
  {
   "cell_type": "code",
   "execution_count": null,
   "id": "33792982",
   "metadata": {},
   "outputs": [],
   "source": [
    "a = a.fillna(0)"
   ]
  },
  {
   "cell_type": "code",
   "execution_count": null,
   "id": "8a6f3dc2",
   "metadata": {},
   "outputs": [],
   "source": [
    "a"
   ]
  },
  {
   "cell_type": "code",
   "execution_count": null,
   "id": "54eb2b20",
   "metadata": {},
   "outputs": [],
   "source": [
    "a['Расчетный сток'] =a['Итого_сток_вчера']+a['Поступления на склад WB']-a['Заказано шт.']"
   ]
  },
  {
   "cell_type": "code",
   "execution_count": null,
   "id": "2594e53d",
   "metadata": {},
   "outputs": [],
   "source": [
    "a"
   ]
  },
  {
   "cell_type": "code",
   "execution_count": null,
   "id": "1c1b1512",
   "metadata": {},
   "outputs": [],
   "source": [
    "a['Проверка текущего стока'] = a['Итого_сток'] - a['Расчетный сток']"
   ]
  },
  {
   "cell_type": "code",
   "execution_count": null,
   "id": "0fa4eb00",
   "metadata": {},
   "outputs": [],
   "source": [
    "a"
   ]
  },
  {
   "cell_type": "code",
   "execution_count": null,
   "id": "a3736400",
   "metadata": {},
   "outputs": [],
   "source": [
    "a.info()"
   ]
  },
  {
   "cell_type": "code",
   "execution_count": null,
   "id": "2bf7c309",
   "metadata": {},
   "outputs": [],
   "source": [
    "def Статус_по_стоку(a):\n",
    "    Статус_по_стоку = []\n",
    "    for i in range(len(a)):\n",
    "        \n",
    "        if   a.iloc[i,15] == 0 :\n",
    "            Статус_по_стоку.append(\"Продаж нет\")\n",
    "             \n",
    "        elif a.iloc[i,15] > 0 and  a.iloc[i,25] > 0:\n",
    "            Статус_по_стоку.append(\"Фактический сток больше\")\n",
    "            \n",
    "        elif a.iloc[i,15] > 0 and  a.iloc[i,25] < 0:\n",
    "            Статус_по_стоку.append(\"Фактический сток меньше\")\n",
    "            \n",
    "        elif a.iloc[i,25]  == 0:\n",
    "            Статус_по_стоку.append(\"Фактический сток = Расчетный сток\")\n",
    "            \n",
    "        \n",
    "        else:\n",
    "            Статус_по_стоку.append('Не определено')\n",
    "             \n",
    "    a['Статус_по_стоку'] =  Статус_по_стоку\n",
    "\n",
    "Статус_по_стоку(a)\n"
   ]
  },
  {
   "cell_type": "code",
   "execution_count": null,
   "id": "dd0a1c12",
   "metadata": {},
   "outputs": [],
   "source": [
    "a"
   ]
  },
  {
   "cell_type": "code",
   "execution_count": null,
   "id": "b8593634",
   "metadata": {},
   "outputs": [],
   "source": [
    "a.groupby(by=['Статус_по_стоку']).count()"
   ]
  },
  {
   "cell_type": "code",
   "execution_count": null,
   "id": "a717d449",
   "metadata": {},
   "outputs": [],
   "source": [
    "a = a.drop_duplicates(['Артикул WB','Размер вещи'])"
   ]
  },
  {
   "cell_type": "code",
   "execution_count": null,
   "id": "332f41db",
   "metadata": {},
   "outputs": [],
   "source": [
    "pd.set_option(\"display.float_format\", \"{:.2f}\".format)"
   ]
  },
  {
   "cell_type": "code",
   "execution_count": null,
   "id": "cabb4031",
   "metadata": {},
   "outputs": [],
   "source": [
    "a"
   ]
  },
  {
   "cell_type": "code",
   "execution_count": null,
   "id": "40400135",
   "metadata": {},
   "outputs": [],
   "source": [
    "a['GPM'].mean()*100"
   ]
  },
  {
   "cell_type": "code",
   "execution_count": null,
   "id": "54751784",
   "metadata": {},
   "outputs": [],
   "source": [
    "a['Net Sales'].sum()"
   ]
  },
  {
   "cell_type": "code",
   "execution_count": null,
   "id": "6a724105",
   "metadata": {},
   "outputs": [],
   "source": [
    "\n",
    "a['Gross Sales'].sum()"
   ]
  },
  {
   "cell_type": "code",
   "execution_count": null,
   "id": "b8117588",
   "metadata": {},
   "outputs": [],
   "source": [
    "a"
   ]
  },
  {
   "cell_type": "code",
   "execution_count": null,
   "id": "686c4416",
   "metadata": {},
   "outputs": [],
   "source": [
    "a = a.drop(a.columns[18:20], axis=1)"
   ]
  },
  {
   "cell_type": "code",
   "execution_count": null,
   "id": "05f89a58",
   "metadata": {},
   "outputs": [],
   "source": [
    "a.info()"
   ]
  },
  {
   "cell_type": "code",
   "execution_count": null,
   "id": "c01f23b3",
   "metadata": {},
   "outputs": [],
   "source": []
  },
  {
   "cell_type": "code",
   "execution_count": null,
   "id": "81c47643",
   "metadata": {},
   "outputs": [],
   "source": []
  }
 ],
 "metadata": {
  "kernelspec": {
   "display_name": "Python 3 (ipykernel)",
   "language": "python",
   "name": "python3"
  },
  "language_info": {
   "codemirror_mode": {
    "name": "ipython",
    "version": 3
   },
   "file_extension": ".py",
   "mimetype": "text/x-python",
   "name": "python",
   "nbconvert_exporter": "python",
   "pygments_lexer": "ipython3",
   "version": "3.11.3"
  }
 },
 "nbformat": 4,
 "nbformat_minor": 5
}
