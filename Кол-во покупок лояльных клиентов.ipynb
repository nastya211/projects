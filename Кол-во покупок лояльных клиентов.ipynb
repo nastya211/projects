{
 "cells": [
  {
   "cell_type": "code",
   "execution_count": null,
   "id": "d56fddb6",
   "metadata": {},
   "outputs": [],
   "source": [
    "import ..."
   ]
  },
  {
   "cell_type": "code",
   "execution_count": null,
   "id": "7c10230f",
   "metadata": {},
   "outputs": [],
   "source": [
    "data = pd.read_csv(r'', sep = ';')"
   ]
  },
  {
   "cell_type": "code",
   "execution_count": null,
   "id": "635c56a3",
   "metadata": {},
   "outputs": [],
   "source": [
    "data"
   ]
  },
  {
   "cell_type": "code",
   "execution_count": null,
   "id": "4480121e",
   "metadata": {},
   "outputs": [],
   "source": [
    "len(data['client_id'].unique())"
   ]
  },
  {
   "cell_type": "code",
   "execution_count": null,
   "id": "b0136b70",
   "metadata": {},
   "outputs": [],
   "source": [
    "data['date'].max()"
   ]
  },
  {
   "cell_type": "code",
   "execution_count": null,
   "id": "607bc46a",
   "metadata": {},
   "outputs": [],
   "source": [
    "data['date'].min()"
   ]
  },
  {
   "cell_type": "code",
   "execution_count": null,
   "id": "a1aa5991",
   "metadata": {},
   "outputs": [],
   "source": [
    "data = data[['date','plant','client_id','ns_with_disc']]"
   ]
  },
  {
   "cell_type": "code",
   "execution_count": null,
   "id": "f43f1788",
   "metadata": {},
   "outputs": [],
   "source": [
    "data['date']= data['date'].map(lambda x: dt.datetime.strptime (x, '%Y-%m-%d'))"
   ]
  },
  {
   "cell_type": "code",
   "execution_count": null,
   "id": "db99f802",
   "metadata": {},
   "outputs": [],
   "source": [
    "data.info()"
   ]
  },
  {
   "cell_type": "code",
   "execution_count": null,
   "id": "b01cfac8",
   "metadata": {},
   "outputs": [],
   "source": [
    "data"
   ]
  },
  {
   "cell_type": "code",
   "execution_count": null,
   "id": "b8200f2c",
   "metadata": {},
   "outputs": [],
   "source": [
    "data = data.query('date > \"2021-10-01\"')"
   ]
  },
  {
   "cell_type": "code",
   "execution_count": null,
   "id": "b0389be2",
   "metadata": {},
   "outputs": [],
   "source": [
    "data"
   ]
  },
  {
   "cell_type": "code",
   "execution_count": null,
   "id": "db2d86d9",
   "metadata": {},
   "outputs": [],
   "source": [
    "amount_of_purch = data.groupby(['plant','client_id']).agg({'date': 'count','ns_with_disc':'sum'}). reset_index()\n",
    "amount_of_purch= pd.DataFrame(amount_of_purch).reset_index()\n",
    "amount_of_purch  = amount_of_purch.rename(columns={\"date\": \"amount_purch\"})\n",
    "amount_of_purch"
   ]
  },
  {
   "cell_type": "code",
   "execution_count": null,
   "id": "227bf832",
   "metadata": {},
   "outputs": [],
   "source": [
    "final = amount_of_purch.groupby(['plant','amount_purch']).agg({'client_id': 'count','ns_with_disc':'sum'})"
   ]
  },
  {
   "cell_type": "code",
   "execution_count": null,
   "id": "b18da5ee",
   "metadata": {},
   "outputs": [],
   "source": [
    "final = pd.DataFrame(final).reset_index()"
   ]
  },
  {
   "cell_type": "code",
   "execution_count": null,
   "id": "ca9a87f4",
   "metadata": {},
   "outputs": [],
   "source": [
    "final"
   ]
  },
  {
   "cell_type": "code",
   "execution_count": null,
   "id": "1b2aad54",
   "metadata": {},
   "outputs": [],
   "source": [
    "final['client_id'].sum()"
   ]
  },
  {
   "cell_type": "code",
   "execution_count": null,
   "id": "3695fb33",
   "metadata": {},
   "outputs": [],
   "source": [
    "shops = pd.read_excel(r'')"
   ]
  },
  {
   "cell_type": "code",
   "execution_count": null,
   "id": "fedbe6a9",
   "metadata": {},
   "outputs": [],
   "source": [
    "shops = shops[['магазин','город']]\n",
    "shops = shops.rename(columns={'магазин': 'plant'})"
   ]
  },
  {
   "cell_type": "code",
   "execution_count": null,
   "id": "e6d3d990",
   "metadata": {},
   "outputs": [],
   "source": [
    "shops"
   ]
  },
  {
   "cell_type": "code",
   "execution_count": null,
   "id": "ad075cee",
   "metadata": {},
   "outputs": [],
   "source": [
    "final = final.merge(shops, on ='plant', how = 'left')"
   ]
  },
  {
   "cell_type": "code",
   "execution_count": null,
   "id": "5cfe3f85",
   "metadata": {},
   "outputs": [],
   "source": [
    "final"
   ]
  },
  {
   "cell_type": "code",
   "execution_count": null,
   "id": "24b8345b",
   "metadata": {},
   "outputs": [],
   "source": [
    "def dat(final):\n",
    "    amlount = []\n",
    "    for i in range (len(final)):\n",
    "        if final.iloc[i,1] < 21 :\n",
    "            amlount.append(final.iloc[i,1])\n",
    "        else:\n",
    "            amlount.append('Более 20')\n",
    "    final['amlount'] = amlount      "
   ]
  },
  {
   "cell_type": "code",
   "execution_count": null,
   "id": "30c76f9e",
   "metadata": {},
   "outputs": [],
   "source": [
    "dat(final)\n",
    "final"
   ]
  },
  {
   "cell_type": "code",
   "execution_count": null,
   "id": "0b96e91c",
   "metadata": {},
   "outputs": [],
   "source": [
    "final.to_excel((r''))"
   ]
  },
  {
   "cell_type": "code",
   "execution_count": null,
   "id": "5fbe8e8a",
   "metadata": {},
   "outputs": [],
   "source": []
  }
 ],
 "metadata": {
  "kernelspec": {
   "display_name": "Python 3 (ipykernel)",
   "language": "python",
   "name": "python3"
  },
  "language_info": {
   "codemirror_mode": {
    "name": "ipython",
    "version": 3
   },
   "file_extension": ".py",
   "mimetype": "text/x-python",
   "name": "python",
   "nbconvert_exporter": "python",
   "pygments_lexer": "ipython3",
   "version": "3.11.3"
  }
 },
 "nbformat": 4,
 "nbformat_minor": 5
}
