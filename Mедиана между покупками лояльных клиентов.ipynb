{
 "cells": [
  {
   "cell_type": "code",
   "execution_count": null,
   "id": "466725a7",
   "metadata": {},
   "outputs": [],
   "source": [
    "import ..."
   ]
  },
  {
   "cell_type": "code",
   "execution_count": null,
   "id": "8056bae3",
   "metadata": {},
   "outputs": [],
   "source": [
    "data = pd.read_csv(r'', sep = ';')"
   ]
  },
  {
   "cell_type": "code",
   "execution_count": null,
   "id": "eca3d2f2",
   "metadata": {},
   "outputs": [],
   "source": [
    "data"
   ]
  },
  {
   "cell_type": "code",
   "execution_count": null,
   "id": "170d6187",
   "metadata": {},
   "outputs": [],
   "source": [
    "data['date'].min()"
   ]
  },
  {
   "cell_type": "code",
   "execution_count": null,
   "id": "a94006c8",
   "metadata": {},
   "outputs": [],
   "source": [
    "data = data[['date','client_id','trans_numb']]"
   ]
  },
  {
   "cell_type": "code",
   "execution_count": null,
   "id": "4e51e181",
   "metadata": {},
   "outputs": [],
   "source": [
    "data = data.dropna()"
   ]
  },
  {
   "cell_type": "code",
   "execution_count": null,
   "id": "11b333ed",
   "metadata": {},
   "outputs": [],
   "source": [
    "data"
   ]
  },
  {
   "cell_type": "code",
   "execution_count": null,
   "id": "07d3693c",
   "metadata": {},
   "outputs": [],
   "source": [
    "data2=data[['date','client_id']]"
   ]
  },
  {
   "cell_type": "code",
   "execution_count": null,
   "id": "fc9e00a5",
   "metadata": {},
   "outputs": [],
   "source": [
    "data2 = data2.groupby(['client_id']).count()"
   ]
  },
  {
   "cell_type": "code",
   "execution_count": null,
   "id": "db84b00d",
   "metadata": {},
   "outputs": [],
   "source": [
    "data2 = data2.reset_index()"
   ]
  },
  {
   "cell_type": "code",
   "execution_count": null,
   "id": "545a71e5",
   "metadata": {},
   "outputs": [],
   "source": [
    "data2"
   ]
  },
  {
   "cell_type": "code",
   "execution_count": null,
   "id": "41b53cd9",
   "metadata": {},
   "outputs": [],
   "source": [
    "fivenine = data2.query('date<10 and date>=5')"
   ]
  },
  {
   "cell_type": "code",
   "execution_count": null,
   "id": "6de46066",
   "metadata": {},
   "outputs": [],
   "source": [
    "fivenine"
   ]
  },
  {
   "cell_type": "code",
   "execution_count": null,
   "id": "4fab8acd",
   "metadata": {},
   "outputs": [],
   "source": [
    "spisok5= fivenine['client_id'].to_list()"
   ]
  },
  {
   "cell_type": "code",
   "execution_count": null,
   "id": "c025c55f",
   "metadata": {},
   "outputs": [],
   "source": [
    "ten = data2.query('date>10')"
   ]
  },
  {
   "cell_type": "code",
   "execution_count": null,
   "id": "25e0fa96",
   "metadata": {},
   "outputs": [],
   "source": [
    "ten"
   ]
  },
  {
   "cell_type": "code",
   "execution_count": null,
   "id": "789da4bd",
   "metadata": {},
   "outputs": [],
   "source": [
    "spisok10= ten['client_id'].to_list()"
   ]
  },
  {
   "cell_type": "code",
   "execution_count": null,
   "id": "6b66eb87",
   "metadata": {},
   "outputs": [],
   "source": [
    "itog5 = data.query('client_id in @spisok5')"
   ]
  },
  {
   "cell_type": "code",
   "execution_count": null,
   "id": "189949f9",
   "metadata": {},
   "outputs": [],
   "source": [
    "itog5 = itog5.sort_values(by='client_id')"
   ]
  },
  {
   "cell_type": "code",
   "execution_count": null,
   "id": "0fbe7c78",
   "metadata": {},
   "outputs": [],
   "source": [
    "itog5 "
   ]
  },
  {
   "cell_type": "code",
   "execution_count": null,
   "id": "aced6d61",
   "metadata": {},
   "outputs": [],
   "source": [
    "itog10 = data.query('client_id in @spisok10')"
   ]
  },
  {
   "cell_type": "code",
   "execution_count": null,
   "id": "37da6503",
   "metadata": {},
   "outputs": [],
   "source": [
    "itog10 = itog10.sort_values(by=['client_id','date'])"
   ]
  },
  {
   "cell_type": "code",
   "execution_count": null,
   "id": "247fef64",
   "metadata": {},
   "outputs": [],
   "source": [
    "itog10"
   ]
  },
  {
   "cell_type": "code",
   "execution_count": null,
   "id": "e17b28c9",
   "metadata": {},
   "outputs": [],
   "source": [
    "itog10['date'] = pd.to_datetime(itog10['date'])"
   ]
  },
  {
   "cell_type": "code",
   "execution_count": null,
   "id": "de609a18",
   "metadata": {},
   "outputs": [],
   "source": [
    "grouped = itog10.groupby('client_id')['date']\n",
    "diff = grouped.diff()\n",
    "\n",
    "result = diff.dt.days.groupby(itog10['client_id']).agg(['mean', 'median'])\n",
    "\n",
    "print(result)"
   ]
  },
  {
   "cell_type": "code",
   "execution_count": null,
   "id": "31bb96c1",
   "metadata": {},
   "outputs": [],
   "source": [
    "result10 = result.reset_index()\n",
    "\n",
    "\n",
    "result10 = result.rename(columns={'mean': 'avg_diff', 'median': 'med_diff'})\n"
   ]
  },
  {
   "cell_type": "code",
   "execution_count": null,
   "id": "1f9406df",
   "metadata": {},
   "outputs": [],
   "source": [
    "result10"
   ]
  },
  {
   "cell_type": "code",
   "execution_count": null,
   "id": "a9d11945",
   "metadata": {},
   "outputs": [],
   "source": [
    "result10['avg_diff'].mean()"
   ]
  },
  {
   "cell_type": "code",
   "execution_count": null,
   "id": "410a666f",
   "metadata": {},
   "outputs": [],
   "source": [
    "result10['med_diff'].mean()"
   ]
  },
  {
   "cell_type": "code",
   "execution_count": null,
   "id": "3ef111e2",
   "metadata": {},
   "outputs": [],
   "source": [
    "itog5 = itog5.sort_values(by=['client_id','date'])"
   ]
  },
  {
   "cell_type": "code",
   "execution_count": null,
   "id": "5911c941",
   "metadata": {},
   "outputs": [],
   "source": [
    "itog5['date'] = pd.to_datetime(itog5['date'])"
   ]
  },
  {
   "cell_type": "code",
   "execution_count": null,
   "id": "1f05bf34",
   "metadata": {},
   "outputs": [],
   "source": [
    "grouped2 = itog5.groupby('client_id')['date']\n",
    "diff2 = grouped2.diff()\n",
    "result2 = diff2.dt.days.groupby(itog5['client_id']).agg(['mean', 'median'])\n",
    "\n",
    "print(result2)"
   ]
  },
  {
   "cell_type": "code",
   "execution_count": null,
   "id": "a2cb3290",
   "metadata": {},
   "outputs": [],
   "source": [
    "result5 = result2.reset_index()\n",
    "\n",
    "result5 = result5.rename(columns={'mean': 'avg_diff', 'median': 'med_diff'})"
   ]
  },
  {
   "cell_type": "code",
   "execution_count": null,
   "id": "655c1ed6",
   "metadata": {},
   "outputs": [],
   "source": [
    "result5"
   ]
  },
  {
   "cell_type": "code",
   "execution_count": null,
   "id": "768b392a",
   "metadata": {},
   "outputs": [],
   "source": [
    "result5['avg_diff'].mean()"
   ]
  },
  {
   "cell_type": "code",
   "execution_count": null,
   "id": "8e4cd847",
   "metadata": {},
   "outputs": [],
   "source": [
    "result5['med_diff'].mean()"
   ]
  },
  {
   "cell_type": "code",
   "execution_count": null,
   "id": "70ed50b4",
   "metadata": {},
   "outputs": [],
   "source": []
  }
 ],
 "metadata": {
  "kernelspec": {
   "display_name": "Python 3 (ipykernel)",
   "language": "python",
   "name": "python3"
  },
  "language_info": {
   "codemirror_mode": {
    "name": "ipython",
    "version": 3
   },
   "file_extension": ".py",
   "mimetype": "text/x-python",
   "name": "python",
   "nbconvert_exporter": "python",
   "pygments_lexer": "ipython3",
   "version": "3.11.3"
  }
 },
 "nbformat": 4,
 "nbformat_minor": 5
}
