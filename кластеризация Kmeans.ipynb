{
 "cells": [
  {
   "cell_type": "code",
   "execution_count": null,
   "id": "314e9590",
   "metadata": {},
   "outputs": [],
   "source": [
    "import ..."
   ]
  },
  {
   "cell_type": "code",
   "execution_count": null,
   "id": "606e0b89",
   "metadata": {},
   "outputs": [],
   "source": [
    "clasters = pd.read_csv(r'', sep = ',')\n"
   ]
  },
  {
   "cell_type": "code",
   "execution_count": null,
   "id": "d53b643b",
   "metadata": {},
   "outputs": [],
   "source": [
    "clasters"
   ]
  },
  {
   "cell_type": "code",
   "execution_count": null,
   "id": "a91e6676",
   "metadata": {},
   "outputs": [],
   "source": [
    "clasters = clasters.drop(columns = [ 'Unnamed: 0'])\n"
   ]
  },
  {
   "cell_type": "code",
   "execution_count": null,
   "id": "58ec54ee",
   "metadata": {},
   "outputs": [],
   "source": [
    "clasters"
   ]
  },
  {
   "cell_type": "code",
   "execution_count": null,
   "id": "9708134f",
   "metadata": {},
   "outputs": [],
   "source": [
    "clasters.info()"
   ]
  },
  {
   "cell_type": "code",
   "execution_count": null,
   "id": "de6c4750",
   "metadata": {},
   "outputs": [],
   "source": [
    "clasters['amount_purch'].describe(percentiles = [0.015,0.20,0.30,0.40,0.50,0.60,0.70,0.80,0.985]).apply(\"{0:.5f}\".format)"
   ]
  },
  {
   "cell_type": "code",
   "execution_count": null,
   "id": "8936c07a",
   "metadata": {},
   "outputs": [],
   "source": [
    "clasters['monetary'].describe(percentiles = [0.015,0.20,0.30,0.40,0.50,0.60,0.70,0.80,0.985]).apply(\"{0:.5f}\".format)"
   ]
  },
  {
   "cell_type": "code",
   "execution_count": null,
   "id": "c3d5af5a",
   "metadata": {},
   "outputs": [],
   "source": [
    "#frod2 = clasters.query('monetary>=')"
   ]
  },
  {
   "cell_type": "code",
   "execution_count": null,
   "id": "6905389f",
   "metadata": {},
   "outputs": [],
   "source": [
    "clasters = clasters.query('monetary<')"
   ]
  },
  {
   "cell_type": "code",
   "execution_count": null,
   "id": "e6ef19f9",
   "metadata": {},
   "outputs": [],
   "source": [
    "inertia = []\n",
    "for k in range(1, 10):\n",
    "    kmeans = KMeans(n_clusters=k, random_state=1).fit(clasters)\n",
    "    inertia.append(np.sqrt(kmeans.inertia_))\n",
    "\n",
    "plt.plot(range(1, 10), inertia, marker='s');\n",
    "plt.xlabel('$k$')\n",
    "plt.ylabel('$J(C_k)$');"
   ]
  },
  {
   "cell_type": "code",
   "execution_count": null,
   "id": "d7cc62ee",
   "metadata": {},
   "outputs": [],
   "source": [
    "clf = KMeans(n_clusters=5, random_state=50)\n",
    "clf.fit(clasters)\n",
    "e_point = pd.DataFrame(clf.cluster_centers_, columns=['client_id', 'amount_purch', 'lifetime', 'monetary', 'recency', 'frequency'])\n"
   ]
  },
  {
   "cell_type": "code",
   "execution_count": null,
   "id": "6ff1253c",
   "metadata": {},
   "outputs": [],
   "source": [
    "labels = clf.labels_\n",
    "cluster_counts = pd.Series(labels).value_counts().reset_index()\n",
    "cluster_counts.columns = ['cluster_label', 'client_count']"
   ]
  },
  {
   "cell_type": "code",
   "execution_count": null,
   "id": "b331ec5e",
   "metadata": {},
   "outputs": [],
   "source": [
    "e_point"
   ]
  },
  {
   "cell_type": "code",
   "execution_count": null,
   "id": "d152542f",
   "metadata": {},
   "outputs": [],
   "source": [
    "cluster_counts"
   ]
  },
  {
   "cell_type": "code",
   "execution_count": null,
   "id": "00f85f36",
   "metadata": {},
   "outputs": [],
   "source": [
    "km = KMeans(n_clusters=5).fit(clasters)"
   ]
  },
  {
   "cell_type": "code",
   "execution_count": null,
   "id": "50974790",
   "metadata": {},
   "outputs": [],
   "source": [
    "km.labels_ +1"
   ]
  },
  {
   "cell_type": "code",
   "execution_count": null,
   "id": "132314b0",
   "metadata": {},
   "outputs": [],
   "source": [
    "data_for_clust=clasters.drop(clasters.columns[0], axis=1).values"
   ]
  },
  {
   "cell_type": "code",
   "execution_count": null,
   "id": "1a58b68e",
   "metadata": {},
   "outputs": [],
   "source": [
    "plt.figure(figsize=(6, 6))\n",
    "plt.scatter(data_for_clust[:,1], data_for_clust[:,2], c=km.labels_, cmap='flag')\n",
    "plt.show()\n",
    "print('C ОТСЕЧКОЙ')"
   ]
  },
  {
   "cell_type": "code",
   "execution_count": null,
   "id": "98139f8f",
   "metadata": {},
   "outputs": [],
   "source": [
    "e_point.to_excel(r'')"
   ]
  },
  {
   "cell_type": "code",
   "execution_count": null,
   "id": "d7ac2819",
   "metadata": {},
   "outputs": [],
   "source": []
  }
 ],
 "metadata": {
  "kernelspec": {
   "display_name": "Python 3 (ipykernel)",
   "language": "python",
   "name": "python3"
  },
  "language_info": {
   "codemirror_mode": {
    "name": "ipython",
    "version": 3
   },
   "file_extension": ".py",
   "mimetype": "text/x-python",
   "name": "python",
   "nbconvert_exporter": "python",
   "pygments_lexer": "ipython3",
   "version": "3.11.3"
  }
 },
 "nbformat": 4,
 "nbformat_minor": 5
}
