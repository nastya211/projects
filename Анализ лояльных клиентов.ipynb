{
 "cells": [
  {
   "cell_type": "code",
   "execution_count": null,
   "id": "155940cf",
   "metadata": {},
   "outputs": [],
   "source": [
    "import ..."
   ]
  },
  {
   "cell_type": "code",
   "execution_count": null,
   "id": "04281741",
   "metadata": {},
   "outputs": [],
   "source": [
    "data = pd.read_csv(r'', sep = ';')"
   ]
  },
  {
   "cell_type": "code",
   "execution_count": null,
   "id": "9def6ce6",
   "metadata": {},
   "outputs": [],
   "source": [
    "data"
   ]
  },
  {
   "cell_type": "code",
   "execution_count": null,
   "id": "1df37d90",
   "metadata": {},
   "outputs": [],
   "source": [
    "spisok  = pd.read_excel(r'')"
   ]
  },
  {
   "cell_type": "code",
   "execution_count": null,
   "id": "31109b06",
   "metadata": {},
   "outputs": [],
   "source": [
    "spisok"
   ]
  },
  {
   "cell_type": "code",
   "execution_count": null,
   "id": "f30a44bc",
   "metadata": {},
   "outputs": [],
   "source": [
    "data = data.dropna()"
   ]
  },
  {
   "cell_type": "code",
   "execution_count": null,
   "id": "77d5d324",
   "metadata": {},
   "outputs": [],
   "source": [
    "data['client_id'] = data['client_id'].astype('int64')"
   ]
  },
  {
   "cell_type": "code",
   "execution_count": null,
   "id": "13943f79",
   "metadata": {},
   "outputs": [],
   "source": [
    "data = data.merge(spisok, on ='client_id', how = 'left')"
   ]
  },
  {
   "cell_type": "code",
   "execution_count": null,
   "id": "483251e5",
   "metadata": {},
   "outputs": [],
   "source": [
    "data = data[['date','client_id','ns_with_disc','pcs','Промокод']]"
   ]
  },
  {
   "cell_type": "code",
   "execution_count": null,
   "id": "b5d96b9b",
   "metadata": {},
   "outputs": [],
   "source": [
    "data['date']= data['date'].map(lambda x: dt.datetime.strptime (x, '%Y-%m-%d'))"
   ]
  },
  {
   "cell_type": "code",
   "execution_count": null,
   "id": "116a1fc7",
   "metadata": {},
   "outputs": [],
   "source": [
    "data"
   ]
  },
  {
   "cell_type": "code",
   "execution_count": null,
   "id": "3ea53e0a",
   "metadata": {},
   "outputs": [],
   "source": [
    "data['Месяц'] = pd.to_datetime(data['date']).dt.month"
   ]
  },
  {
   "cell_type": "code",
   "execution_count": null,
   "id": "34fad1fb",
   "metadata": {},
   "outputs": [],
   "source": [
    "data"
   ]
  },
  {
   "cell_type": "code",
   "execution_count": null,
   "id": "e201e132",
   "metadata": {},
   "outputs": [],
   "source": [
    "#data = data.head(5000)"
   ]
  },
  {
   "cell_type": "code",
   "execution_count": null,
   "id": "19bfaa6a",
   "metadata": {},
   "outputs": [],
   "source": [
    "def sezon(data):\n",
    "    sezon = []\n",
    "    for i in range (len(data)):\n",
    "        if data.iloc[i,4] == 9 or data.iloc[i,4] == 10 or data.iloc[i,4] == 11 or data.iloc[i,4] == 12 or data.iloc[i,4] == 1 or data.iloc[i,4] == 2 :\n",
    "            sezon.append('Зимний сезон')\n",
    "        else:\n",
    "            sezon.append('Летний сезон')\n",
    "    data['sezon'] = sezon  "
   ]
  },
  {
   "cell_type": "code",
   "execution_count": null,
   "id": "bc63bc04",
   "metadata": {},
   "outputs": [],
   "source": [
    "sezon(data)\n",
    "data"
   ]
  },
  {
   "cell_type": "code",
   "execution_count": null,
   "id": "24628a6e",
   "metadata": {},
   "outputs": [],
   "source": [
    "data['Промокод'].count()"
   ]
  },
  {
   "cell_type": "code",
   "execution_count": null,
   "id": "505b4db7",
   "metadata": {},
   "outputs": [],
   "source": [
    "#amount_of_purch = data.groupby(['sezon','Месяц','client_id','ns_with_disc'])['date'].count()\n",
    "amount_of_purch = data.groupby(['sezon','Месяц','client_id']).agg({'date': 'count','ns_with_disc': 'sum','pcs':'sum','Промокод': 'nunique'}). reset_index()\n",
    "#amount_of_purch= pd.DataFrame(amount_of_purch).reset_index()\n",
    "amount_of_purch  = amount_of_purch.rename(columns={\"date\": \"кол-во покупок\", 'ns_with_disc':'NS'})\n",
    "amount_of_purch"
   ]
  },
  {
   "cell_type": "code",
   "execution_count": null,
   "id": "22be0a90",
   "metadata": {},
   "outputs": [],
   "source": [
    "amount_of_purch['pcs'].sum()"
   ]
  },
  {
   "cell_type": "code",
   "execution_count": null,
   "id": "fdc27a20",
   "metadata": {},
   "outputs": [],
   "source": [
    "final = amount_of_purch.groupby(['sezon','Месяц','кол-во покупок']).agg({'client_id': 'count','NS': ['sum','mean'], 'pcs':'sum', 'Промокод': 'sum'}). reset_index()\n",
    "final  = final.rename(columns={\"client_id\": \"кол-во клиентов\"})\n",
    "#final = pd.DataFrame(final).reset_index()\n",
    "final"
   ]
  },
  {
   "cell_type": "code",
   "execution_count": null,
   "id": "ada98a72",
   "metadata": {},
   "outputs": [],
   "source": [
    "final.columns = ['_'.join(col).rstrip('_') for col in final.columns.values]\n",
    "final.round(2)"
   ]
  },
  {
   "cell_type": "code",
   "execution_count": null,
   "id": "744a1f8b",
   "metadata": {},
   "outputs": [],
   "source": [
    "def a(final):\n",
    "    am_pr = []\n",
    "    for i in range (len(final)):\n",
    "        if final.iloc[i,2] == 2 :\n",
    "            am_pr.append('2 покупки')\n",
    "        elif final.iloc[i,2] >= 3 and final.iloc[i,2] <= 5:\n",
    "            am_pr.append('От 3 до 5 покупок')\n",
    "        elif final.iloc[i,2] >= 10 and final.iloc[i,2] <= 15:\n",
    "            am_pr.append('От 10 до 15 покупок')\n",
    "        elif final.iloc[i,2] > 15 :\n",
    "            am_pr.append('Более 15 покупок')\n",
    "        else:\n",
    "            am_pr.append('Другая категория')\n",
    "\n",
    "    final['Покупки'] = am_pr  "
   ]
  },
  {
   "cell_type": "code",
   "execution_count": null,
   "id": "cfbf7ee5",
   "metadata": {},
   "outputs": [],
   "source": [
    "a(final)\n",
    "final"
   ]
  },
  {
   "cell_type": "code",
   "execution_count": null,
   "id": "2071fa87",
   "metadata": {},
   "outputs": [],
   "source": [
    "email = pd.read_excel(r'')"
   ]
  },
  {
   "cell_type": "code",
   "execution_count": null,
   "id": "0521f222",
   "metadata": {},
   "outputs": [],
   "source": [
    "email = amount_of_purch.merge(email, on = 'client_id', how = 'left')"
   ]
  },
  {
   "cell_type": "code",
   "execution_count": null,
   "id": "808f7704",
   "metadata": {},
   "outputs": [],
   "source": [
    "email"
   ]
  },
  {
   "cell_type": "code",
   "execution_count": null,
   "id": "16e57cde",
   "metadata": {},
   "outputs": [],
   "source": [
    "#fs= email.groupby(['sezon','Месяц','кол-во покупок']).agg({'client_id': 'count','user_email': 'count','user_email_Is_subscribed':'count'}). reset_index()"
   ]
  },
  {
   "cell_type": "code",
   "execution_count": null,
   "id": "2605f122",
   "metadata": {},
   "outputs": [],
   "source": [
    "#fs.groupby(['sezon','Покупки']).agg({'client_id' : 'sum','user_email': 'sum','user_email_Is_subscribed':'sum'}). reset_index()"
   ]
  },
  {
   "cell_type": "code",
   "execution_count": null,
   "id": "04bb033e",
   "metadata": {},
   "outputs": [],
   "source": [
    " email = email.groupby(['sezon','Месяц','кол-во покупок','user_sex']).agg({'user_email': 'count','user_email_Is_subscribed':'count','user_email_invalid':'count'}). reset_index()"
   ]
  },
  {
   "cell_type": "code",
   "execution_count": null,
   "id": "a6f04eea",
   "metadata": {},
   "outputs": [],
   "source": [
    "email"
   ]
  },
  {
   "cell_type": "code",
   "execution_count": null,
   "id": "9988d658",
   "metadata": {},
   "outputs": [],
   "source": [
    "def an(email):\n",
    "    am_pr = []\n",
    "    for i in range (len(email)):\n",
    "        if email.iloc[i,2] == 2 :\n",
    "            am_pr.append('2 покупки')\n",
    "        elif email.iloc[i,2] >= 3 and email.iloc[i,2] <= 5:\n",
    "            am_pr.append('От 3 до 5 покупок')\n",
    "        elif email.iloc[i,2] >= 10 and email.iloc[i,2] <= 15:\n",
    "            am_pr.append('От 10 до 15 покупок')\n",
    "        elif email.iloc[i,2] > 15 :\n",
    "            am_pr.append('Более 15 покупок')\n",
    "        else:\n",
    "            am_pr.append('Другая категория')\n",
    "\n",
    "    email['Покупки'] = am_pr  "
   ]
  },
  {
   "cell_type": "code",
   "execution_count": null,
   "id": "f6a5f201",
   "metadata": {},
   "outputs": [],
   "source": [
    "an(email)\n",
    "email"
   ]
  },
  {
   "cell_type": "code",
   "execution_count": null,
   "id": "669ce55f",
   "metadata": {},
   "outputs": [],
   "source": [
    "pd.set_option(\"display.float_format\", \"{:.2f}\".format)"
   ]
  },
  {
   "cell_type": "code",
   "execution_count": null,
   "id": "35cf384f",
   "metadata": {},
   "outputs": [],
   "source": [
    "final = final[['sezon','Месяц','кол-во клиентов_count','NS_sum','NS_mean','pcs_sum','Промокод_sum','Покупки']]"
   ]
  },
  {
   "cell_type": "code",
   "execution_count": null,
   "id": "b8b47073",
   "metadata": {},
   "outputs": [],
   "source": [
    "final = final.groupby(['sezon','Месяц','Покупки']).agg({'кол-во клиентов_count': 'sum','NS_sum':'sum','NS_mean':'mean','pcs_sum':'sum','Промокод_sum':'sum'}). reset_index()"
   ]
  },
  {
   "cell_type": "code",
   "execution_count": null,
   "id": "396818e2",
   "metadata": {},
   "outputs": [],
   "source": [
    "final"
   ]
  },
  {
   "cell_type": "code",
   "execution_count": null,
   "id": "465712d8",
   "metadata": {},
   "outputs": [],
   "source": [
    "email = email.groupby(['sezon','Покупки','user_sex']).agg({'user_email': 'sum','user_email_Is_subscribed':'sum','user_email_invalid':'sum'}). reset_index()"
   ]
  },
  {
   "cell_type": "code",
   "execution_count": null,
   "id": "9a890fec",
   "metadata": {},
   "outputs": [],
   "source": [
    "final.to_excel(r'')"
   ]
  },
  {
   "cell_type": "code",
   "execution_count": null,
   "id": "9f714c7c",
   "metadata": {},
   "outputs": [],
   "source": [
    "atv = amount_of_purch.groupby(['sezon','Месяц','кол-во покупок']).agg({'client_id': 'count','NS': ['sum','mean'], 'Промокод': 'sum'}). reset_index()\n",
    "atv  = atv.rename(columns={\"client_id\": \"кол-во клиентов\"})\n",
    "#final = pd.DataFrame(final).reset_index()\n",
    "atv"
   ]
  },
  {
   "cell_type": "code",
   "execution_count": null,
   "id": "cc4f491e",
   "metadata": {},
   "outputs": [],
   "source": [
    "atv.columns = ['_'.join(col).rstrip('_') for col in atv.columns.values]\n",
    "atv.round(2)"
   ]
  },
  {
   "cell_type": "code",
   "execution_count": null,
   "id": "91283b52",
   "metadata": {},
   "outputs": [],
   "source": [
    "atv = atv[['sezon','Месяц','кол-во покупок','кол-во клиентов_count','NS_sum']]"
   ]
  },
  {
   "cell_type": "code",
   "execution_count": null,
   "id": "7126926a",
   "metadata": {},
   "outputs": [],
   "source": [
    "atv"
   ]
  },
  {
   "cell_type": "code",
   "execution_count": null,
   "id": "ad91d515",
   "metadata": {},
   "outputs": [],
   "source": [
    "a(atv)\n",
    "atv"
   ]
  },
  {
   "cell_type": "code",
   "execution_count": null,
   "id": "7d31700a",
   "metadata": {},
   "outputs": [],
   "source": [
    "pd.set_option(\"display.float_format\", \"{:.2f}\".format)"
   ]
  },
  {
   "cell_type": "code",
   "execution_count": null,
   "id": "f7893441",
   "metadata": {},
   "outputs": [],
   "source": [
    "atv['ATV'] = atv['NS_sum']/(atv['кол-во покупок']*atv['кол-во клиентов_count'])"
   ]
  },
  {
   "cell_type": "code",
   "execution_count": null,
   "id": "67c25f54",
   "metadata": {},
   "outputs": [],
   "source": [
    "atv"
   ]
  },
  {
   "cell_type": "code",
   "execution_count": null,
   "id": "8e9519c0",
   "metadata": {},
   "outputs": [],
   "source": [
    "atv = atv.groupby(['sezon','Месяц','Покупки']).agg({'ATV': 'mean'}). reset_index()"
   ]
  },
  {
   "cell_type": "code",
   "execution_count": null,
   "id": "6e7988a6",
   "metadata": {},
   "outputs": [],
   "source": []
  }
 ],
 "metadata": {
  "kernelspec": {
   "display_name": "Python 3 (ipykernel)",
   "language": "python",
   "name": "python3"
  },
  "language_info": {
   "codemirror_mode": {
    "name": "ipython",
    "version": 3
   },
   "file_extension": ".py",
   "mimetype": "text/x-python",
   "name": "python",
   "nbconvert_exporter": "python",
   "pygments_lexer": "ipython3",
   "version": "3.11.3"
  }
 },
 "nbformat": 4,
 "nbformat_minor": 5
}
