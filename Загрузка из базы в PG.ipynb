{
 "cells": [
  {
   "cell_type": "code",
   "execution_count": null,
   "id": "03ec15ea",
   "metadata": {},
   "outputs": [],
   "source": [
    "import...\n",
    "\n",
    "#Учетные данные для подключения к Postgresql:\n",
    "DB_HOST = ''\n",
    "DB_USER = ''\n",
    "DB_NAME = ''\n",
    "DB_PASS = ''\n",
    "\n",
    "#подключчение к Postgresql:\n",
    "engine = sqlalchemy.create_engine('')\n",
    "\n",
    "#переменные - даты:\n",
    "today = date.today().strftime(\"%Y%m%d\")\n",
    "month_ = today[:6]\n",
    "\n",
    "#подключчение к hana:\n",
    "conn = dbapi.connect\\\n",
    "    (\n",
    "    address=\"\",\n",
    "    port=,\n",
    "    user=\"\",\n",
    "    password=\"\"\n",
    "    )\n",
    "cursor = conn.cursor()\n",
    "\n",
    "#sql запрос:\n",
    "query = \"\"\"SELECT \"\"\"\n",
    "\n",
    "hana_data = pd.read_sql(query, conn)\n",
    "hana_data= hana_data.query('pcs < 100000')\n",
    "cursor.close()\n",
    "conn.close()\n",
    "\n",
    "#Подключение к Postgresql, вставка массива:\n",
    "hana_data.to_sql('clients', con=engine, schema='sales', if_exists='append', index=False)"
   ]
  },
  {
   "cell_type": "code",
   "execution_count": null,
   "id": "a6218173",
   "metadata": {},
   "outputs": [],
   "source": []
  }
 ],
 "metadata": {
  "kernelspec": {
   "display_name": "Python 3 (ipykernel)",
   "language": "python",
   "name": "python3"
  },
  "language_info": {
   "codemirror_mode": {
    "name": "ipython",
    "version": 3
   },
   "file_extension": ".py",
   "mimetype": "text/x-python",
   "name": "python",
   "nbconvert_exporter": "python",
   "pygments_lexer": "ipython3",
   "version": "3.11.3"
  }
 },
 "nbformat": 4,
 "nbformat_minor": 5
}
