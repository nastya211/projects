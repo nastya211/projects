{
 "cells": [
  {
   "cell_type": "code",
   "execution_count": null,
   "id": "47a65b02",
   "metadata": {},
   "outputs": [],
   "source": [
    "import ..."
   ]
  },
  {
   "cell_type": "code",
   "execution_count": null,
   "id": "151bfa7f",
   "metadata": {},
   "outputs": [],
   "source": [
    "data = pd.read_csv(r'', sep = ',')"
   ]
  },
  {
   "cell_type": "code",
   "execution_count": null,
   "id": "601ed00b",
   "metadata": {},
   "outputs": [],
   "source": [
    "data = data.query('flag_lk_nk == \"LK\"')"
   ]
  },
  {
   "cell_type": "code",
   "execution_count": null,
   "id": "0aa9ea38",
   "metadata": {},
   "outputs": [],
   "source": [
    "data"
   ]
  },
  {
   "cell_type": "code",
   "execution_count": null,
   "id": "6e80649e",
   "metadata": {},
   "outputs": [],
   "source": [
    "df=data.query('gs_with_disc > 0')"
   ]
  },
  {
   "cell_type": "code",
   "execution_count": null,
   "id": "5c2a5560",
   "metadata": {},
   "outputs": [],
   "source": [
    "df = df.drop(columns = ['status_mf', 'mb_trans','flag_lk_nk'])"
   ]
  },
  {
   "cell_type": "code",
   "execution_count": null,
   "id": "0f5c212f",
   "metadata": {},
   "outputs": [],
   "source": [
    "df = df.dropna()"
   ]
  },
  {
   "cell_type": "code",
   "execution_count": null,
   "id": "7a41decc",
   "metadata": {},
   "outputs": [],
   "source": [
    "df.info()\n",
    "df.isnull().sum()"
   ]
  },
  {
   "cell_type": "code",
   "execution_count": null,
   "id": "77d43368",
   "metadata": {},
   "outputs": [],
   "source": [
    "df['date'] = df['date'].astype('str')"
   ]
  },
  {
   "cell_type": "code",
   "execution_count": null,
   "id": "70a01c04",
   "metadata": {},
   "outputs": [],
   "source": [
    "df['date'] = df['date'].map(lambda x: dt.datetime.strptime (x, '%Y%m%d'))"
   ]
  },
  {
   "cell_type": "code",
   "execution_count": null,
   "id": "9f219193",
   "metadata": {},
   "outputs": [],
   "source": [
    "df = df.query('gs_with_disc > 19')"
   ]
  },
  {
   "cell_type": "code",
   "execution_count": null,
   "id": "9e30932f",
   "metadata": {},
   "outputs": [],
   "source": [
    "df['client_id'] = df['client_id'].astype('int64')\n",
    "df['pcs'] = df['pcs'].astype('int64')\n",
    "df['gs_with_disc'] = df['gs_with_disc'].astype('int64')\n",
    "df['gs_without_disc'] = df['gs_without_disc'].astype('int64')\n",
    "df['trans_numb'] = df['trans_numb'].astype('int64')"
   ]
  },
  {
   "cell_type": "code",
   "execution_count": null,
   "id": "fe3eb6d7",
   "metadata": {},
   "outputs": [],
   "source": [
    "df['gs_with_disc'].describe(percentiles = [0.015,0.20,0.30,0.40,0.50,0.60,0.70,0.80,0.985]).apply(\"{0:.5f}\".format)"
   ]
  },
  {
   "cell_type": "code",
   "execution_count": null,
   "id": "c4f91aab",
   "metadata": {},
   "outputs": [],
   "source": [
    "# здесь надо вписать нижний и верхний перцентиль\n",
    "data_new = df.query('gs_with_disc > 99 and gs_with_disc < 5100 ')"
   ]
  },
  {
   "cell_type": "code",
   "execution_count": null,
   "id": "81201182",
   "metadata": {},
   "outputs": [],
   "source": [
    "data_new['gs_with_disc'].describe(percentiles = [0.015,0.20,0.30,0.40,0.50,0.60,0.70,0.80,0.985]).apply(\"{0:.5f}\".format)"
   ]
  },
  {
   "cell_type": "code",
   "execution_count": null,
   "id": "a910b829",
   "metadata": {},
   "outputs": [],
   "source": [
    "data_new = data_new.reset_index()"
   ]
  },
  {
   "cell_type": "code",
   "execution_count": null,
   "id": "09beccd8",
   "metadata": {},
   "outputs": [],
   "source": [
    "data_new = data_new.drop(columns = 'index')"
   ]
  },
  {
   "cell_type": "code",
   "execution_count": null,
   "id": "c480d625",
   "metadata": {},
   "outputs": [],
   "source": [
    "data_new "
   ]
  },
  {
   "cell_type": "code",
   "execution_count": null,
   "id": "64848f05",
   "metadata": {},
   "outputs": [],
   "source": [
    "gs_without_disc = data_new.groupby('client_id')['gs_with_disc','gs_without_disc','ns_with_disc', 'ns_without_disc','checks', 'pcs', 'cogs'].sum()\n",
    "gs_without_disc = pd.DataFrame(gs_without_disc).reset_index()\n",
    "gs_without_disc "
   ]
  },
  {
   "cell_type": "code",
   "execution_count": null,
   "id": "03a8adc4",
   "metadata": {},
   "outputs": [],
   "source": [
    "lifetime_1 = data_new.groupby('client_id')['date'].max()\n",
    "lifetime_1= pd.DataFrame(lifetime_1).reset_index()\n",
    "lifetime_2 = data_new.groupby('client_id')['date'].min()\n",
    "lifetime_2= pd.DataFrame(lifetime_2).reset_index()\n",
    "lifetime = lifetime_1.merge(lifetime_2, left_on='client_id', right_on='client_id')\n",
    "lifetime['lifetime'] = lifetime ['date_x'] - lifetime ['date_y']\n",
    "lifetime = lifetime.sort_values(by = 'lifetime', ascending = False)\n",
    "lifetime  = lifetime.rename(columns={\"date_x\": \"last_pur_date\", \"date_y\" : \"first_pur_date\"})\n",
    "lifetime"
   ]
  },
  {
   "cell_type": "code",
   "execution_count": null,
   "id": "19a5fc2b",
   "metadata": {},
   "outputs": [],
   "source": [
    "def recency(recency):\n",
    "\n",
    "    res = str(recency).split(' ')[0]\n",
    "\n",
    "    return(int(res))\n",
    "\n",
    "\n",
    "lifetime['lifetime'] = lifetime['lifetime'].apply(recency)"
   ]
  },
  {
   "cell_type": "code",
   "execution_count": null,
   "id": "43b1a8c8",
   "metadata": {},
   "outputs": [],
   "source": [
    "# сколько было покупок за год\n",
    "amount_of_purch = data_new.groupby('client_id')['date'].count()\n",
    "amount_of_purch= pd.DataFrame(amount_of_purch).reset_index()\n",
    "amount_of_purch  = amount_of_purch.rename(columns={\"date\": \"amount_purch\"})\n",
    "amount_of_purch"
   ]
  },
  {
   "cell_type": "code",
   "execution_count": null,
   "id": "9334aec8",
   "metadata": {},
   "outputs": [],
   "source": [
    "rfm = amount_of_purch.merge(lifetime, how = 'left', left_on='client_id', right_on='client_id')\n",
    "rfm = rfm.merge(gs_without_disc, how = 'left', left_on='client_id', right_on='client_id')\n",
    "rfm"
   ]
  },
  {
   "cell_type": "code",
   "execution_count": null,
   "id": "ad19d7fb",
   "metadata": {},
   "outputs": [],
   "source": [
    "rfm['UPT'] = rfm['pcs']/ rfm['checks']"
   ]
  },
  {
   "cell_type": "code",
   "execution_count": null,
   "id": "f041b4ee",
   "metadata": {},
   "outputs": [],
   "source": [
    "rfm['ASP']= rfm['ns_with_disc']/ rfm['pcs']"
   ]
  },
  {
   "cell_type": "code",
   "execution_count": null,
   "id": "8b2a71c6",
   "metadata": {},
   "outputs": [],
   "source": [
    "rfm['dicount'] = rfm ['gs_without_disc'] - rfm ['gs_with_disc']"
   ]
  },
  {
   "cell_type": "code",
   "execution_count": null,
   "id": "25917a9d",
   "metadata": {},
   "outputs": [],
   "source": [
    "rfm['dicount_pers'] = rfm['dicount']/rfm ['gs_without_disc']*100"
   ]
  },
  {
   "cell_type": "code",
   "execution_count": null,
   "id": "0eedef55",
   "metadata": {},
   "outputs": [],
   "source": [
    "rfm['GPM'] = (rfm['ns_with_disc'] - rfm['cogs'])/rfm['ns_with_disc']"
   ]
  },
  {
   "cell_type": "code",
   "execution_count": null,
   "id": "49841535",
   "metadata": {},
   "outputs": [],
   "source": [
    "rfm"
   ]
  },
  {
   "cell_type": "code",
   "execution_count": null,
   "id": "5285f2de",
   "metadata": {},
   "outputs": [],
   "source": [
    "rfm =rfm.query('amount_purch < 10')\n",
    "rfm"
   ]
  },
  {
   "cell_type": "code",
   "execution_count": null,
   "id": "98230e75",
   "metadata": {},
   "outputs": [],
   "source": [
    "rfm['recency'] = pd.to_datetime('2022-06-30') - rfm['last_pur_date']\n",
    "rfm"
   ]
  },
  {
   "cell_type": "code",
   "execution_count": null,
   "id": "b9460760",
   "metadata": {},
   "outputs": [],
   "source": [
    "def recency(recency):\n",
    "\n",
    "    res = str(recency).split(' ')[0]\n",
    "\n",
    "    return(int(res))\n",
    "\n",
    "\n",
    "rfm['recency'] = rfm['recency'].apply(recency)"
   ]
  },
  {
   "cell_type": "code",
   "execution_count": null,
   "id": "b7a3bbc9",
   "metadata": {},
   "outputs": [],
   "source": [
    "rfm['ATV'] = rfm['ns_with_disc']/rfm['amount_purch']"
   ]
  },
  {
   "cell_type": "code",
   "execution_count": null,
   "id": "f8debd30",
   "metadata": {},
   "outputs": [],
   "source": [
    "rfm"
   ]
  },
  {
   "cell_type": "code",
   "execution_count": null,
   "id": "51d67dcf",
   "metadata": {},
   "outputs": [],
   "source": [
    "def frequency(rfm):\n",
    "    frequency = []\n",
    "    for i in range (len(rfm)):\n",
    "        if rfm.iloc[i,1] == 1 :\n",
    "            frequency.append(rfm.iloc[i,17]/rfm.iloc[i,1])\n",
    "        else:\n",
    "            frequency.append(rfm.iloc[i,4]/rfm.iloc[i,1])\n",
    "    rfm['frequency'] = frequency      "
   ]
  },
  {
   "cell_type": "code",
   "execution_count": null,
   "id": "5c2750a2",
   "metadata": {},
   "outputs": [],
   "source": [
    "frequency(rfm)\n",
    "rfm"
   ]
  },
  {
   "cell_type": "code",
   "execution_count": null,
   "id": "c2d5884b",
   "metadata": {},
   "outputs": [],
   "source": []
  }
 ],
 "metadata": {
  "kernelspec": {
   "display_name": "Python 3 (ipykernel)",
   "language": "python",
   "name": "python3"
  },
  "language_info": {
   "codemirror_mode": {
    "name": "ipython",
    "version": 3
   },
   "file_extension": ".py",
   "mimetype": "text/x-python",
   "name": "python",
   "nbconvert_exporter": "python",
   "pygments_lexer": "ipython3",
   "version": "3.11.3"
  }
 },
 "nbformat": 4,
 "nbformat_minor": 5
}
