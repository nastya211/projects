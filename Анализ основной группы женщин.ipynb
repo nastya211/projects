{
 "cells": [
  {
   "cell_type": "code",
   "execution_count": null,
   "id": "79b51fd4",
   "metadata": {},
   "outputs": [],
   "source": [
    "import ..."
   ]
  },
  {
   "cell_type": "code",
   "execution_count": null,
   "id": "b95d2e8a",
   "metadata": {},
   "outputs": [],
   "source": [
    "data =  pd.read_csv(r'', sep = ';')"
   ]
  },
  {
   "cell_type": "code",
   "execution_count": null,
   "id": "4ffbfbaf",
   "metadata": {},
   "outputs": [],
   "source": [
    "data"
   ]
  },
  {
   "cell_type": "code",
   "execution_count": null,
   "id": "06d7db60",
   "metadata": {},
   "outputs": [],
   "source": [
    "data['client_id'].unique()"
   ]
  },
  {
   "cell_type": "code",
   "execution_count": null,
   "id": "17bc65ce",
   "metadata": {},
   "outputs": [],
   "source": [
    "len(data['client_id'].unique())"
   ]
  },
  {
   "cell_type": "code",
   "execution_count": null,
   "id": "98fb9495",
   "metadata": {},
   "outputs": [],
   "source": [
    "data['date'] = data['date'].map(lambda x: dt.datetime.strptime (x, '%Y-%m-%d'))"
   ]
  },
  {
   "cell_type": "code",
   "execution_count": null,
   "id": "78c96f5a",
   "metadata": {},
   "outputs": [],
   "source": [
    "lifetime_1 = data.groupby('client_id')['date'].max()\n",
    "lifetime_1= pd.DataFrame(lifetime_1).reset_index()\n",
    "lifetime_2 = data.groupby('client_id')['date'].min()\n",
    "lifetime_2= pd.DataFrame(lifetime_2).reset_index()\n",
    "lifetime = lifetime_1.merge(lifetime_2, left_on='client_id', right_on='client_id')\n",
    "lifetime['lifetime'] = lifetime ['date_x'] - lifetime ['date_y']\n",
    "lifetime = lifetime.sort_values(by = 'lifetime', ascending = False)\n",
    "lifetime  = lifetime.rename(columns={\"date_x\": \"last_pur_date\", \"date_y\" : \"first_pur_date\"})\n",
    "lifetime"
   ]
  },
  {
   "cell_type": "code",
   "execution_count": null,
   "id": "2d615d95",
   "metadata": {},
   "outputs": [],
   "source": [
    "amount_of_purch = data.groupby('client_id')['date'].nunique()\n",
    "amount_of_purch= pd.DataFrame(amount_of_purch).reset_index()\n",
    "amount_of_purch  = amount_of_purch.rename(columns={\"date\": \"amount_purch\"})\n",
    "amount_of_purch"
   ]
  },
  {
   "cell_type": "code",
   "execution_count": null,
   "id": "876d8587",
   "metadata": {},
   "outputs": [],
   "source": [
    "first_table = lifetime.merge(amount_of_purch, on ='client_id')"
   ]
  },
  {
   "cell_type": "code",
   "execution_count": null,
   "id": "d7a938c5",
   "metadata": {},
   "outputs": [],
   "source": [
    "first_table"
   ]
  },
  {
   "cell_type": "code",
   "execution_count": null,
   "id": "ac1e9305",
   "metadata": {},
   "outputs": [],
   "source": [
    "first_table"
   ]
  },
  {
   "cell_type": "code",
   "execution_count": null,
   "id": "07182ec2",
   "metadata": {},
   "outputs": [],
   "source": [
    "import pandas as pd\n",
    "\n",
    "first_table['recency'] = (pd.to_datetime('2023-05-21') - first_table['last_pur_date']).dt.days\n",
    "\n",
    "def frequency(first_table):\n",
    "    frequency = []\n",
    "    for i in range(len(first_table)):\n",
    "        if first_table.iloc[i, 4] == 1:\n",
    "            frequency.append(str(first_table.iloc[i, 5]/first_table.iloc[i, 4]).split(' ')[0])\n",
    "        else:\n",
    "            frequency.append(str(first_table.iloc[i, 3] / first_table.iloc[i, 4]).split(' ')[0])\n",
    "    first_table['frequency'] = frequency\n",
    "\n",
    "\n",
    "frequency(first_table)\n",
    "\n",
    "\n"
   ]
  },
  {
   "cell_type": "code",
   "execution_count": null,
   "id": "402b16f0",
   "metadata": {},
   "outputs": [],
   "source": [
    "first_table"
   ]
  },
  {
   "cell_type": "code",
   "execution_count": null,
   "id": "77cee2aa",
   "metadata": {},
   "outputs": [],
   "source": [
    "first_table['amount_purch'].describe(percentiles = [0.015,0.20,0.30,0.40,0.50,0.60,0.70,0.80,0.985]).apply(\"{0:.5f}\".format)"
   ]
  },
  {
   "cell_type": "code",
   "execution_count": null,
   "id": "164d6fd1",
   "metadata": {},
   "outputs": [],
   "source": [
    "first_table = first_table.query('amount_purch<24')\n",
    "first_table"
   ]
  },
  {
   "cell_type": "code",
   "execution_count": null,
   "id": "8293ea5f",
   "metadata": {},
   "outputs": [],
   "source": [
    "first_table['frequency'] = first_table['frequency'].astype(float).round().astype('int64')\n",
    "\n"
   ]
  },
  {
   "cell_type": "code",
   "execution_count": null,
   "id": "58d3889d",
   "metadata": {},
   "outputs": [],
   "source": [
    "def get_status_recency(recency):\n",
    "    if recency >= 0 and recency <= 200:\n",
    "        return '0-200'\n",
    "    elif recency >= 201 and recency <= 400:\n",
    "        return '201-400'\n",
    "    elif recency >= 401 and recency <= 600:\n",
    "        return '401-600'\n",
    "    elif recency >= 601 and recency <= 870:\n",
    "        return '601-780'\n",
    "    else:\n",
    "        return 'Unknown'\n",
    "\n",
    "first_table['status_recency'] = first_table['recency'].apply(get_status_recency)\n"
   ]
  },
  {
   "cell_type": "code",
   "execution_count": null,
   "id": "6a20ddb5",
   "metadata": {},
   "outputs": [],
   "source": [
    "first_table"
   ]
  },
  {
   "cell_type": "code",
   "execution_count": null,
   "id": "66655f48",
   "metadata": {},
   "outputs": [],
   "source": [
    "first_table['amount_purch'].mean()"
   ]
  },
  {
   "cell_type": "code",
   "execution_count": null,
   "id": "3487a41d",
   "metadata": {},
   "outputs": [],
   "source": [
    "def get_status_frequency(frequency):\n",
    "    if frequency >= 0 and frequency <= 200:\n",
    "        return '0-200'\n",
    "    elif frequency >= 201 and frequency <= 400:\n",
    "        return '201-400'\n",
    "    elif frequency >= 401 and frequency <= 600:\n",
    "        return '401-600'\n",
    "    elif frequency >= 601 and frequency <= 870:\n",
    "        return '601-780'\n",
    "    else:\n",
    "        return 'Unknown'\n",
    "\n",
    "first_table['status_frequency'] = first_table['frequency'].apply(get_status_recency)"
   ]
  },
  {
   "cell_type": "code",
   "execution_count": null,
   "id": "b9c0982f",
   "metadata": {},
   "outputs": [],
   "source": [
    "first_table"
   ]
  },
  {
   "cell_type": "code",
   "execution_count": null,
   "id": "98abe704",
   "metadata": {},
   "outputs": [],
   "source": [
    "grouped_table = first_table.groupby(['client_id', 'status_recency', 'status_frequency']).agg({\n",
    "    'amount_purch': 'max'\n",
    "}).reset_index()\n",
    "\n",
    "grouped_table.columns = ['client_id', 'status_recency', 'status_frequency', 'amount_purch']\n"
   ]
  },
  {
   "cell_type": "code",
   "execution_count": null,
   "id": "1219dfdd",
   "metadata": {},
   "outputs": [],
   "source": [
    "grouped_table"
   ]
  },
  {
   "cell_type": "code",
   "execution_count": null,
   "id": "b4870a9c",
   "metadata": {},
   "outputs": [],
   "source": [
    "data_gr = data.groupby(['client_id']).agg({\n",
    "    'ns_with_disc': 'sum',\n",
    "    'pcs':'sum'\n",
    "}).reset_index()\n",
    "data_gr"
   ]
  },
  {
   "cell_type": "code",
   "execution_count": null,
   "id": "1042c994",
   "metadata": {},
   "outputs": [],
   "source": [
    "grouped_table = grouped_table.merge(data_gr, on ='client_id', how = 'left')"
   ]
  },
  {
   "cell_type": "code",
   "execution_count": null,
   "id": "d6c65b0a",
   "metadata": {},
   "outputs": [],
   "source": [
    "grouped_table"
   ]
  },
  {
   "cell_type": "code",
   "execution_count": null,
   "id": "9dd9961d",
   "metadata": {},
   "outputs": [],
   "source": [
    "data"
   ]
  },
  {
   "cell_type": "code",
   "execution_count": null,
   "id": "0891b06a",
   "metadata": {},
   "outputs": [],
   "source": [
    "data.info()"
   ]
  },
  {
   "cell_type": "code",
   "execution_count": null,
   "id": "14b54e44",
   "metadata": {},
   "outputs": [],
   "source": [
    "data_g2 = data.groupby(['dep','prgr','prrole']).agg({\n",
    "    'client_id': 'nunique',\n",
    "    'date':'count',\n",
    "    'ns_with_disc':'sum',\n",
    "    'pcs':'sum'\n",
    "}).reset_index()\n",
    "\n",
    "data_g2.columns = ['department', 'product_group', 'price_roll', 'client_id_count', 'amount_purch','ns_with_disc','pcs']\n",
    "\n",
    "data_g2"
   ]
  },
  {
   "cell_type": "code",
   "execution_count": null,
   "id": "da7820ab",
   "metadata": {},
   "outputs": [],
   "source": [
    "party = pd.read_excel(r'')"
   ]
  },
  {
   "cell_type": "code",
   "execution_count": null,
   "id": "9e8759e9",
   "metadata": {},
   "outputs": [],
   "source": [
    "party"
   ]
  },
  {
   "cell_type": "code",
   "execution_count": null,
   "id": "8636f44f",
   "metadata": {},
   "outputs": [],
   "source": [
    "data = data.merge(party, on = 'date', how = 'left')"
   ]
  },
  {
   "cell_type": "code",
   "execution_count": null,
   "id": "813cfa73",
   "metadata": {},
   "outputs": [],
   "source": [
    "data"
   ]
  },
  {
   "cell_type": "code",
   "execution_count": null,
   "id": "7f1793cd",
   "metadata": {},
   "outputs": [],
   "source": [
    "data_gr_3 =  data.groupby(['Повод','dep','prgr','prcl','prrole']).agg({\n",
    "    'client_id': 'nunique',\n",
    "    'date':'count',\n",
    "    'ns_with_disc':'sum',\n",
    "    'pcs':'sum'\n",
    "}).reset_index()\n",
    "\n",
    "data_gr_3.columns = ['Праздник','department', 'product_group','product_class', 'price_roll', 'client_id_count', 'amount_purch','ns_with_disc','pcs']\n",
    "data_gr_3"
   ]
  },
  {
   "cell_type": "code",
   "execution_count": null,
   "id": "caa1c64b",
   "metadata": {},
   "outputs": [],
   "source": [
    "data_gr_3.to_excel(r'')"
   ]
  },
  {
   "cell_type": "code",
   "execution_count": null,
   "id": "249a281d",
   "metadata": {},
   "outputs": [],
   "source": [
    "data_g2.to_excel(r'')"
   ]
  },
  {
   "cell_type": "code",
   "execution_count": null,
   "id": "a2670b50",
   "metadata": {},
   "outputs": [],
   "source": [
    "first_table"
   ]
  },
  {
   "cell_type": "code",
   "execution_count": null,
   "id": "470bdcdd",
   "metadata": {},
   "outputs": [],
   "source": [
    "averages = {\n",
    "    'lifetime': first_table['lifetime'].mean(),\n",
    "    'amount_purch': first_table['amount_purch'].mean(),\n",
    "    'recency': first_table['recency'].mean(),\n",
    "    'frequency': first_table['frequency'].mean()\n",
    "}\n",
    "\n",
    "averages_table = pd.DataFrame.from_dict(averages, orient='index', columns=['Среднее значение'])\n",
    "\n",
    "averages_table"
   ]
  },
  {
   "cell_type": "code",
   "execution_count": null,
   "id": "b8d7d258",
   "metadata": {},
   "outputs": [],
   "source": [
    "averages_table.to_excel(r'')"
   ]
  },
  {
   "cell_type": "code",
   "execution_count": null,
   "id": "62056dcc",
   "metadata": {},
   "outputs": [],
   "source": []
  }
 ],
 "metadata": {
  "kernelspec": {
   "display_name": "Python 3 (ipykernel)",
   "language": "python",
   "name": "python3"
  },
  "language_info": {
   "codemirror_mode": {
    "name": "ipython",
    "version": 3
   },
   "file_extension": ".py",
   "mimetype": "text/x-python",
   "name": "python",
   "nbconvert_exporter": "python",
   "pygments_lexer": "ipython3",
   "version": "3.11.3"
  }
 },
 "nbformat": 4,
 "nbformat_minor": 5
}
