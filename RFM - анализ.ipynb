{
 "cells": [
  {
   "cell_type": "markdown",
   "id": "0bc60ef5",
   "metadata": {},
   "source": [
    "# Предобработка"
   ]
  },
  {
   "cell_type": "code",
   "execution_count": null,
   "id": "09911a40",
   "metadata": {},
   "outputs": [],
   "source": [
    "import ..."
   ]
  },
  {
   "cell_type": "code",
   "execution_count": null,
   "id": "da5d2ab0",
   "metadata": {},
   "outputs": [],
   "source": [
    "df = pd.read_csv(r'', sep = ';')"
   ]
  },
  {
   "cell_type": "code",
   "execution_count": null,
   "id": "8f58d26d",
   "metadata": {},
   "outputs": [],
   "source": [
    "#female = pd.read_excel(r'')"
   ]
  },
  {
   "cell_type": "code",
   "execution_count": null,
   "id": "6d8776ca",
   "metadata": {},
   "outputs": [],
   "source": [
    "#female"
   ]
  },
  {
   "cell_type": "code",
   "execution_count": null,
   "id": "0ac6c674",
   "metadata": {},
   "outputs": [],
   "source": [
    "#f = female['client_id'].to_list()"
   ]
  },
  {
   "cell_type": "code",
   "execution_count": null,
   "id": "638545c3",
   "metadata": {},
   "outputs": [],
   "source": [
    "#df = df.query('client_id in @f')"
   ]
  },
  {
   "cell_type": "code",
   "execution_count": null,
   "id": "05de4fac",
   "metadata": {},
   "outputs": [],
   "source": [
    "#df"
   ]
  },
  {
   "cell_type": "code",
   "execution_count": null,
   "id": "dcc8a824",
   "metadata": {},
   "outputs": [],
   "source": [
    "import warnings\n",
    "warnings.filterwarnings(\"ignore\")"
   ]
  },
  {
   "cell_type": "code",
   "execution_count": null,
   "id": "e2f68fce",
   "metadata": {},
   "outputs": [],
   "source": [
    "df.info()"
   ]
  },
  {
   "cell_type": "code",
   "execution_count": null,
   "id": "e967e78a",
   "metadata": {},
   "outputs": [],
   "source": [
    "df.isnull().sum()"
   ]
  },
  {
   "cell_type": "code",
   "execution_count": null,
   "id": "a0c5b6f0",
   "metadata": {},
   "outputs": [],
   "source": [
    "df = df.dropna()"
   ]
  },
  {
   "cell_type": "code",
   "execution_count": null,
   "id": "15443d95",
   "metadata": {},
   "outputs": [],
   "source": [
    "df['date'] = df['date'].astype('str')"
   ]
  },
  {
   "cell_type": "code",
   "execution_count": null,
   "id": "c8f4060c",
   "metadata": {},
   "outputs": [],
   "source": [
    "df['date'] = df['date'].map(lambda x: dt.datetime.strptime (x, '%Y-%m-%d')) "
   ]
  },
  {
   "cell_type": "code",
   "execution_count": null,
   "id": "330cbcdf",
   "metadata": {},
   "outputs": [],
   "source": [
    "#df['date'] = df['date'].map(lambda x: dt.datetime.strptime (x, '%Y%m%d')) # менять взависимости от всех данных"
   ]
  },
  {
   "cell_type": "code",
   "execution_count": null,
   "id": "c25d4602",
   "metadata": {},
   "outputs": [],
   "source": [
    "#df = df.query('gs_with_disc > 19')"
   ]
  },
  {
   "cell_type": "code",
   "execution_count": null,
   "id": "5e16a1d8",
   "metadata": {},
   "outputs": [],
   "source": [
    "df['client_id'] = df['client_id'].astype('int64')\n",
    "df['pcs'] = df['pcs'].astype('int64')\n",
    "df['gs_with_disc'] = df['gs_with_disc'].astype('int64')\n",
    "df['gs_without_disc'] = df['gs_without_disc'].astype('int64')\n",
    "df['trans_numb'] = df['trans_numb'].astype('int64')"
   ]
  },
  {
   "cell_type": "code",
   "execution_count": null,
   "id": "503dfcec",
   "metadata": {},
   "outputs": [],
   "source": [
    "df.info()"
   ]
  },
  {
   "cell_type": "code",
   "execution_count": null,
   "id": "1ae4c623",
   "metadata": {},
   "outputs": [],
   "source": [
    "df['gs_with_disc'].describe(percentiles = [0.015,0.20,0.30,0.40,0.50,0.60,0.70,0.80,0.985,]).apply(\"{0:.5f}\".format)"
   ]
  },
  {
   "cell_type": "code",
   "execution_count": null,
   "id": "5b0860ab",
   "metadata": {},
   "outputs": [],
   "source": [
    "#print(df['gs_with_disc'].mean() - 3 * df['gs_with_disc'].std(), df['gs_with_disc'].mean() + 3 * df['gs_with_disc'].std())"
   ]
  },
  {
   "cell_type": "code",
   "execution_count": null,
   "id": "ac0a81c7",
   "metadata": {},
   "outputs": [],
   "source": [
    "frod = df.query('gs_with_disc > 5200') #нужно поправить после всей выборки"
   ]
  },
  {
   "cell_type": "code",
   "execution_count": null,
   "id": "628dcbbf",
   "metadata": {},
   "outputs": [],
   "source": [
    "# здесь надо вписать нижний и верхний перцентиль\n",
    "data_new = df.query('gs_with_disc <= 5200 ') #нужно поправить после всей выборки"
   ]
  },
  {
   "cell_type": "code",
   "execution_count": null,
   "id": "fb6b9a03",
   "metadata": {},
   "outputs": [],
   "source": [
    "data_new "
   ]
  },
  {
   "cell_type": "code",
   "execution_count": null,
   "id": "04b54843",
   "metadata": {},
   "outputs": [],
   "source": [
    "data_new['gs_with_disc'].describe(percentiles = [0.015,0.20,0.30,0.40,0.50,0.60,0.70,0.80,0.985]).apply(\"{0:.5f}\".format)"
   ]
  },
  {
   "cell_type": "markdown",
   "id": "b31ca1d8",
   "metadata": {},
   "source": [
    "# Расчеты для RFM"
   ]
  },
  {
   "cell_type": "code",
   "execution_count": null,
   "id": "c029b5a3",
   "metadata": {},
   "outputs": [],
   "source": [
    "data_new = data_new.reset_index()"
   ]
  },
  {
   "cell_type": "code",
   "execution_count": null,
   "id": "8b3dc53a",
   "metadata": {},
   "outputs": [],
   "source": [
    "data_new = data_new.drop(columns = 'index')"
   ]
  },
  {
   "cell_type": "code",
   "execution_count": null,
   "id": "1075cd62",
   "metadata": {},
   "outputs": [],
   "source": [
    "data_new"
   ]
  },
  {
   "cell_type": "code",
   "execution_count": null,
   "id": "ef00698f",
   "metadata": {},
   "outputs": [],
   "source": [
    " data_new =  data_new.groupby(['date', 'client_id']).sum().reset_index()"
   ]
  },
  {
   "cell_type": "code",
   "execution_count": null,
   "id": "38cb9a07",
   "metadata": {},
   "outputs": [],
   "source": [
    " data_new "
   ]
  },
  {
   "cell_type": "code",
   "execution_count": null,
   "id": "58868cb2",
   "metadata": {},
   "outputs": [],
   "source": [
    "# сколько дней от текущей даты прошло (конца года) с момента последней покупки \n",
    "req = data_new.groupby('client_id')['date'].max()\n",
    "req = pd.DataFrame(req).reset_index()\n",
    "req['req'] = pd.to_datetime('2023-05-28') - req['date']\n",
    "req = req.sort_values(by = 'req')\n",
    "req = req.rename(columns={\"date\": \"last_purch_date\", \"req\": \"recency\"})"
   ]
  },
  {
   "cell_type": "code",
   "execution_count": null,
   "id": "ea2fe9cb",
   "metadata": {},
   "outputs": [],
   "source": [
    "def recency(recency):\n",
    "\n",
    "    res = str(recency).split(' ')[0]\n",
    "\n",
    "    return(int(res))\n",
    "\n",
    "\n",
    "req['recency'] = req['recency'].apply(recency)"
   ]
  },
  {
   "cell_type": "code",
   "execution_count": null,
   "id": "bb384a2f",
   "metadata": {},
   "outputs": [],
   "source": [
    "req"
   ]
  },
  {
   "cell_type": "code",
   "execution_count": null,
   "id": "cf160b95",
   "metadata": {},
   "outputs": [],
   "source": [
    "re2=req.query('recency>0')"
   ]
  },
  {
   "cell_type": "code",
   "execution_count": null,
   "id": "676e38d3",
   "metadata": {},
   "outputs": [],
   "source": [
    "re2['recency'].mean()"
   ]
  },
  {
   "cell_type": "code",
   "execution_count": null,
   "id": "35f823b7",
   "metadata": {},
   "outputs": [],
   "source": [
    "req['recency'].mean()"
   ]
  },
  {
   "cell_type": "code",
   "execution_count": null,
   "id": "985a11b8",
   "metadata": {},
   "outputs": [],
   "source": [
    "# сколько денег принес клиент\n",
    "monetary = data_new.groupby('client_id')['gs_with_disc'].sum() \n",
    "monetary= pd.DataFrame(monetary).reset_index()"
   ]
  },
  {
   "cell_type": "code",
   "execution_count": null,
   "id": "3f8dc95c",
   "metadata": {},
   "outputs": [],
   "source": [
    "monetary = monetary.sort_values(by = 'gs_with_disc', ascending = False)\n",
    "monetary  = monetary.rename(columns={\"gs_with_disc\": \"monetary\"})\n",
    "monetary"
   ]
  },
  {
   "cell_type": "code",
   "execution_count": null,
   "id": "5738d537",
   "metadata": {},
   "outputs": [],
   "source": [
    "# жизненный цикл клиента\n",
    "lifetime_1 = data_new.groupby('client_id')['date'].max()\n",
    "lifetime_1= pd.DataFrame(lifetime_1).reset_index()\n",
    "lifetime_2 = data_new.groupby('client_id')['date'].min()\n",
    "lifetime_2= pd.DataFrame(lifetime_2).reset_index()\n",
    "lifetime = lifetime_1.merge(lifetime_2, left_on='client_id', right_on='client_id')\n",
    "lifetime['lifetime'] = lifetime ['date_x'] - lifetime ['date_y']\n",
    "lifetime = lifetime.sort_values(by = 'lifetime', ascending = False)\n",
    "lifetime  = lifetime.rename(columns={\"date_x\": \"last_pur_date\", \"date_y\" : \"first_pur_date\"})\n",
    "lifetime"
   ]
  },
  {
   "cell_type": "code",
   "execution_count": null,
   "id": "6d520754",
   "metadata": {},
   "outputs": [],
   "source": [
    "def recency(recency):\n",
    "\n",
    "    res = str(recency).split(' ')[0]\n",
    "\n",
    "    return(int(res))\n",
    "\n",
    "\n",
    "lifetime['lifetime'] = lifetime['lifetime'].apply(recency)"
   ]
  },
  {
   "cell_type": "code",
   "execution_count": null,
   "id": "48b737b6",
   "metadata": {},
   "outputs": [],
   "source": [
    "lifetime"
   ]
  },
  {
   "cell_type": "code",
   "execution_count": null,
   "id": "05062b4b",
   "metadata": {},
   "outputs": [],
   "source": [
    "# сколько было покупок за год\n",
    "freq = data_new.groupby('client_id')['date'].count()\n",
    "freq= pd.DataFrame(freq).reset_index()\n",
    "freq"
   ]
  },
  {
   "cell_type": "code",
   "execution_count": null,
   "id": "67276ee7",
   "metadata": {},
   "outputs": [],
   "source": [
    "freq =  freq.sort_values(by = 'date', ascending = False)\n",
    "freq ['freq'] = lifetime ['lifetime'] / freq ['date'] \n",
    "freq  = freq.rename(columns={\"date\": \"amount_purch\", \"freq\" : \"frequency\"})\n",
    "freq"
   ]
  },
  {
   "cell_type": "code",
   "execution_count": null,
   "id": "d8216906",
   "metadata": {},
   "outputs": [],
   "source": [
    "freq['amount_purch'].describe(percentiles = [0.015,0.20,0.30,0.40,0.50,0.60,0.70,0.80,0.985]).apply(\"{0:.5f}\".format)"
   ]
  },
  {
   "cell_type": "code",
   "execution_count": null,
   "id": "421d6633",
   "metadata": {},
   "outputs": [],
   "source": [
    "#freq = freq.query('amount_purch < 10')#нужно поправить после всей выборки\n",
    "freq= pd.DataFrame(freq).reset_index()\n",
    "freq = freq.drop(columns = 'index')\n",
    "freq"
   ]
  },
  {
   "cell_type": "code",
   "execution_count": null,
   "id": "4a88180d",
   "metadata": {},
   "outputs": [],
   "source": [
    "#frod2= freq.query('amount_purch > 10') #нужно поправить после всей выборки"
   ]
  },
  {
   "cell_type": "code",
   "execution_count": null,
   "id": "71e6ced3",
   "metadata": {},
   "outputs": [],
   "source": [
    "rfm = freq.merge(lifetime, how = 'left', left_on='client_id', right_on='client_id')\n",
    "rfm = rfm.merge(monetary, how = 'left', left_on='client_id', right_on='client_id')\n",
    "rfm = rfm.merge(req, how = 'left', left_on='client_id', right_on='client_id')\n",
    "rfm = rfm.drop(columns = 'last_purch_date')\n",
    "rfm['ATV'] = rfm['monetary']/rfm['amount_purch']"
   ]
  },
  {
   "cell_type": "code",
   "execution_count": null,
   "id": "eacee833",
   "metadata": {
    "scrolled": true
   },
   "outputs": [],
   "source": [
    "rfm"
   ]
  },
  {
   "cell_type": "code",
   "execution_count": null,
   "id": "3e35b426",
   "metadata": {},
   "outputs": [],
   "source": [
    "rfm = rfm.query('last_pur_date < \"2021-06-01\"')"
   ]
  },
  {
   "cell_type": "markdown",
   "id": "0138137d",
   "metadata": {},
   "source": [
    "# Кластеризация"
   ]
  },
  {
   "cell_type": "code",
   "execution_count": null,
   "id": "7cd63ae4",
   "metadata": {},
   "outputs": [],
   "source": [
    "rfm_new = rfm.drop(columns = ['frequency', 'ATV', 'last_pur_date', 'first_pur_date']) "
   ]
  },
  {
   "cell_type": "code",
   "execution_count": null,
   "id": "190120f3",
   "metadata": {},
   "outputs": [],
   "source": [
    "rfm_new"
   ]
  },
  {
   "cell_type": "code",
   "execution_count": null,
   "id": "6a6cf63a",
   "metadata": {},
   "outputs": [],
   "source": [
    "def frequency(rfm_new):\n",
    "    frequency = []\n",
    "    for i in range (len(rfm_new)):\n",
    "        if rfm_new.iloc[i,1] == 1 :\n",
    "            frequency.append(rfm_new.iloc[i,4]/rfm_new.iloc[i,1])\n",
    "        else:\n",
    "            frequency.append(rfm_new.iloc[i,2]/rfm_new.iloc[i,1])\n",
    "    rfm_new['frequency'] = frequency      "
   ]
  },
  {
   "cell_type": "code",
   "execution_count": null,
   "id": "973f2c27",
   "metadata": {},
   "outputs": [],
   "source": [
    "frequency(rfm_new)\n",
    "rfm_new"
   ]
  },
  {
   "cell_type": "code",
   "execution_count": null,
   "id": "200e9861",
   "metadata": {},
   "outputs": [],
   "source": [
    "rfm_new"
   ]
  },
  {
   "cell_type": "code",
   "execution_count": null,
   "id": "5df9683c",
   "metadata": {},
   "outputs": [],
   "source": [
    "#frod2 #нужно поправить после всей выборки"
   ]
  },
  {
   "cell_type": "code",
   "execution_count": null,
   "id": "941b2798",
   "metadata": {},
   "outputs": [],
   "source": [
    "clasters = rfm_new"
   ]
  },
  {
   "cell_type": "code",
   "execution_count": null,
   "id": "4b95ff4c",
   "metadata": {},
   "outputs": [],
   "source": [
    "frod "
   ]
  },
  {
   "cell_type": "code",
   "execution_count": null,
   "id": "31d73c9b",
   "metadata": {},
   "outputs": [],
   "source": [
    "rfm_new['amount_purch'].describe(percentiles = [0.015,0.20,0.30,0.40,0.50,0.60,0.70,0.80,0.985]).apply(\"{0:.5f}\".format)"
   ]
  },
  {
   "cell_type": "code",
   "execution_count": null,
   "id": "24daa878",
   "metadata": {},
   "outputs": [],
   "source": [
    "rfm_new = rfm_new.query('amount_purch<=34')"
   ]
  },
  {
   "cell_type": "code",
   "execution_count": null,
   "id": "575234b5",
   "metadata": {},
   "outputs": [],
   "source": [
    "rfm_new"
   ]
  },
  {
   "cell_type": "code",
   "execution_count": null,
   "id": "9df0f535",
   "metadata": {},
   "outputs": [],
   "source": [
    "rfm"
   ]
  },
  {
   "cell_type": "code",
   "execution_count": null,
   "id": "66123ef9",
   "metadata": {},
   "outputs": [],
   "source": [
    "rfm.info()"
   ]
  },
  {
   "cell_type": "code",
   "execution_count": null,
   "id": "6720e29e",
   "metadata": {},
   "outputs": [],
   "source": [
    "rfm['year'] = rfm['last_pur_date'].dt.year"
   ]
  },
  {
   "cell_type": "code",
   "execution_count": null,
   "id": "ab11ad9e",
   "metadata": {},
   "outputs": [],
   "source": [
    "import seaborn as sns\n",
    "import matplotlib.pyplot as plt\n",
    "\n",
    "\n",
    "plt.figure(figsize=(15, 10))\n",
    "\n",
    "sns.boxplot(x='year', y='recency', data=rfm)\n",
    "\n",
    "plt.title('Recency Boxplot by Year')\n",
    "plt.xlabel('Year')\n",
    "plt.ylabel('Recency')\n",
    "\n",
    "plt.show()\n"
   ]
  },
  {
   "cell_type": "code",
   "execution_count": null,
   "id": "5de38205",
   "metadata": {},
   "outputs": [],
   "source": [
    "import seaborn as sns\n",
    "import matplotlib.pyplot as plt\n",
    "plt.figure(figsize=(15, 10))\n",
    "sns.boxplot(y='recency', data=rfm)\n",
    "\n",
    "plt.title('Распределение recency для клиентов')\n",
    "plt.ylabel('Recency')\n",
    "\n",
    "plt.ylim(0, rfm['recency'].quantile(0.95))\n",
    "\n",
    "plt.show()\n"
   ]
  },
  {
   "cell_type": "code",
   "execution_count": null,
   "id": "ba64e09e",
   "metadata": {},
   "outputs": [],
   "source": [
    "import seaborn as sns\n",
    "import matplotlib.pyplot as plt\n",
    "\n",
    "plt.figure(figsize=(15, 10))\n",
    "\n",
    "sns.histplot(x='recency', data=rfm, color='steelblue', alpha=0.7)\n",
    "\n",
    "plt.title('Recency Histogram')\n",
    "plt.xlabel('Recency')\n",
    "plt.ylabel('Count')\n",
    "\n",
    "plt.show()\n"
   ]
  },
  {
   "cell_type": "code",
   "execution_count": null,
   "id": "35f77879",
   "metadata": {},
   "outputs": [],
   "source": [
    "\n",
    "mean = rfm['recency'].mean()\n",
    "std = rfm['recency'].std()\n",
    "\n",
    "data = np.random.normal(mean, std, size=len(rfm))\n",
    "\n",
    "plt.figure(figsize=(15, 10))\n",
    "plt.hist(data, bins=50, color='steelblue', alpha=0.7)\n",
    "\n",
    "plt.title('Стандартное распределение Recency')\n",
    "plt.xlabel('Recency')\n",
    "plt.ylabel('кол-во')\n",
    "\n",
    "plt.show()\n"
   ]
  },
  {
   "cell_type": "code",
   "execution_count": null,
   "id": "4c7c0878",
   "metadata": {},
   "outputs": [],
   "source": [
    "import matplotlib.pyplot as plt\n",
    "plt.figure(figsize=(15, 10))\n",
    "plt.boxplot(rfm['lifetime'], whis=[25,85])\n",
    "\n",
    "\n",
    "plt.title('Боксплот для Lifetime')\n",
    "plt.ylabel('Lifetime')\n",
    "\n",
    "plt.show()\n"
   ]
  },
  {
   "cell_type": "code",
   "execution_count": null,
   "id": "017c02c5",
   "metadata": {},
   "outputs": [],
   "source": [
    "rfm_new['recency'].describe(percentiles = [0.015,0.20,0.30,0.40,0.50,0.60,0.70,0.80,0.985]).apply(\"{0:.5f}\".format)"
   ]
  },
  {
   "cell_type": "code",
   "execution_count": null,
   "id": "c11aa02e",
   "metadata": {},
   "outputs": [],
   "source": [
    "rfm_new=rfm_new.query('recency<=1539')"
   ]
  },
  {
   "cell_type": "code",
   "execution_count": null,
   "id": "f8575881",
   "metadata": {},
   "outputs": [],
   "source": [
    " data_new"
   ]
  },
  {
   "cell_type": "code",
   "execution_count": null,
   "id": "fa1e5d54",
   "metadata": {},
   "outputs": [],
   "source": [
    "plt.figure(figsize=(15, 10))\n",
    "\n",
    "grouped_data = rfm.groupby('amount_purch')['client_id'].nunique().reset_index()\n",
    "\n",
    "\n",
    "sns.barplot(x='amount_purch', y='client_id', data=grouped_data, color='steelblue')\n",
    "\n",
    "plt.title('Гистограмма количества покупок и клиентов')\n",
    "plt.xlabel('Количество покупок (amount_purch)')\n",
    "plt.ylabel('Количество клиентов (client_id)')\n",
    "\n",
    "plt.show()\n",
    "\n"
   ]
  },
  {
   "cell_type": "code",
   "execution_count": null,
   "id": "2e2957b7",
   "metadata": {},
   "outputs": [],
   "source": [
    "single_purchase_clients = rfm[rfm['amount_purch'] == 1]\n",
    "\n",
    "plt.figure(figsize=(15, 10))\n",
    "sns.histplot(x='recency', data=single_purchase_clients, color='steelblue', alpha=0.7)\n",
    "\n",
    "plt.title('Распределение Recency для клиентов с одной покупкой')\n",
    "plt.xlabel('Recency')\n",
    "plt.ylabel('Количество клиентов')\n",
    "\n",
    "\n"
   ]
  },
  {
   "cell_type": "code",
   "execution_count": null,
   "id": "37a8b0f1",
   "metadata": {},
   "outputs": [],
   "source": [
    "rfm_new"
   ]
  },
  {
   "cell_type": "code",
   "execution_count": null,
   "id": "4585f1a3",
   "metadata": {},
   "outputs": [],
   "source": [
    "rfm_new.to_csv(r'')"
   ]
  },
  {
   "cell_type": "code",
   "execution_count": null,
   "id": "b943a9ee",
   "metadata": {},
   "outputs": [],
   "source": []
  }
 ],
 "metadata": {
  "kernelspec": {
   "display_name": "Python 3 (ipykernel)",
   "language": "python",
   "name": "python3"
  },
  "language_info": {
   "codemirror_mode": {
    "name": "ipython",
    "version": 3
   },
   "file_extension": ".py",
   "mimetype": "text/x-python",
   "name": "python",
   "nbconvert_exporter": "python",
   "pygments_lexer": "ipython3",
   "version": "3.11.3"
  }
 },
 "nbformat": 4,
 "nbformat_minor": 5
}
